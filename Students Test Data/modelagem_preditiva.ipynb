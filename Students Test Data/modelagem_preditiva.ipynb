{
  "nbformat": 4,
  "nbformat_minor": 0,
  "metadata": {
    "colab": {
      "provenance": []
    },
    "kernelspec": {
      "name": "python3",
      "display_name": "Python 3"
    },
    "language_info": {
      "name": "python"
    }
  },
  "cells": [
    {
      "cell_type": "markdown",
      "source": [
        "#Modelagem Preditiva"
      ],
      "metadata": {
        "id": "9mTmU43bxGwY"
      }
    },
    {
      "cell_type": "markdown",
      "source": [
        "## Importando bibliotecas e dataset"
      ],
      "metadata": {
        "id": "ZCUDjbPcxMSI"
      }
    },
    {
      "cell_type": "code",
      "source": [
        "import pandas as pd\n",
        "import matplotlib.pyplot as plt\n",
        "import seaborn as sns\n",
        "from sklearn.model_selection import train_test_split\n",
        "from sklearn.preprocessing import LabelEncoder\n",
        "from sklearn.linear_model import LinearRegression\n",
        "from sklearn.metrics import mean_squared_error, r2_score\n",
        "from sklearn.tree import DecisionTreeRegressor\n",
        "from sklearn.model_selection import cross_val_score\n",
        "from sklearn.ensemble import RandomForestRegressor\n",
        "from sklearn.model_selection import GridSearchCV\n",
        "from sklearn.ensemble import GradientBoostingRegressor\n",
        "import xgboost as xgb\n",
        "from sklearn.model_selection import RandomizedSearchCV"
      ],
      "metadata": {
        "id": "VodAd4FrKSwW"
      },
      "execution_count": 7,
      "outputs": []
    },
    {
      "cell_type": "code",
      "source": [
        "# Carrega o conjunto de dados\n",
        "df = pd.read_csv('Private_data.csv')\n",
        "\n",
        "# Exibe as primeiras e últimas linhas do conjunto de dados\n",
        "df_head_tail = pd.concat([df.head(), df.tail()])\n",
        "df_head_tail"
      ],
      "metadata": {
        "colab": {
          "base_uri": "https://localhost:8080/",
          "height": 0
        },
        "id": "a-c2xquYJ_WG",
        "outputId": "9fa61f63-1a8e-4861-f057-fa4bdf09d8a6"
      },
      "execution_count": 3,
      "outputs": [
        {
          "output_type": "execute_result",
          "data": {
            "text/plain": [
              "     Unnamed: 0 NAME OF THE STUDENT  \\\n",
              "0             0         Camila Wood   \n",
              "1             1  Alexander Thompson   \n",
              "2             2         Liam Taylor   \n",
              "3             3      Evelyn Jenkins   \n",
              "4             4     Michael Jackson   \n",
              "146         146         Avery Lewis   \n",
              "147         147        Ethan Martin   \n",
              "148         148  Nicholas Rodriguez   \n",
              "149         149        Samuel Perez   \n",
              "150         150           Emily Lee   \n",
              "\n",
              "                                           UNIVERSITY PROGRAM NAME  \\\n",
              "0                            Stanford University, USA        B.Com   \n",
              "1                            Stanford University, USA        B.Com   \n",
              "2                             Harvard University, USA        B.Com   \n",
              "3                            Stanford University, USA        B.Com   \n",
              "4                             Harvard University, USA          MBA   \n",
              "146                          Stanford University, USA          BBA   \n",
              "147                          Stanford University, USA          BBA   \n",
              "148                           Harvard University, USA          MBA   \n",
              "149                          Stanford University, USA          BBA   \n",
              "150  Massachusetts Institute of Technology (MIT), USA          BBA   \n",
              "\n",
              "             Specialisation SEMESTER   Domain  \\\n",
              "0                   Honours      5th  Finance   \n",
              "1        Financial Services      5th  Finance   \n",
              "2      Accounting Analytics      5th       BA   \n",
              "3                   Honours      5th  Finance   \n",
              "4    International Business      3rd       IB   \n",
              "146      Financial Services      5th  Finance   \n",
              "147  International Business      5th  Generic   \n",
              "148  International Business      3rd       IB   \n",
              "149  International Business      5th       IB   \n",
              "150       Digital Marketing      5th       DM   \n",
              "\n",
              "     GENERAL MANAGEMENT SCORE (OUT of 50)  Domain Specific SCORE (OUT 50)  \\\n",
              "0                                      50                              50   \n",
              "1                                      50                              50   \n",
              "2                                      50                              50   \n",
              "3                                      49                              50   \n",
              "4                                      50                              49   \n",
              "146                                    16                              12   \n",
              "147                                    11                              13   \n",
              "148                                    16                               8   \n",
              "149                                    12                               8   \n",
              "150                                     4                               1   \n",
              "\n",
              "     TOTAL SCORE (OUT of 100)  RANK  PERCENTILE  \n",
              "0                         100     1    1.000000  \n",
              "1                         100     2    0.993377  \n",
              "2                         100     3    0.986755  \n",
              "3                          99     4    0.980132  \n",
              "4                          99     5    0.973510  \n",
              "146                        28   147    0.033113  \n",
              "147                        24   148    0.026490  \n",
              "148                        24   149    0.019868  \n",
              "149                        20   150    0.013245  \n",
              "150                         5   151    0.006623  "
            ],
            "text/html": [
              "\n",
              "  <div id=\"df-ecba0a66-c2d3-423d-8c3e-c6e232e607cf\" class=\"colab-df-container\">\n",
              "    <div>\n",
              "<style scoped>\n",
              "    .dataframe tbody tr th:only-of-type {\n",
              "        vertical-align: middle;\n",
              "    }\n",
              "\n",
              "    .dataframe tbody tr th {\n",
              "        vertical-align: top;\n",
              "    }\n",
              "\n",
              "    .dataframe thead th {\n",
              "        text-align: right;\n",
              "    }\n",
              "</style>\n",
              "<table border=\"1\" class=\"dataframe\">\n",
              "  <thead>\n",
              "    <tr style=\"text-align: right;\">\n",
              "      <th></th>\n",
              "      <th>Unnamed: 0</th>\n",
              "      <th>NAME OF THE STUDENT</th>\n",
              "      <th>UNIVERSITY</th>\n",
              "      <th>PROGRAM NAME</th>\n",
              "      <th>Specialisation</th>\n",
              "      <th>SEMESTER</th>\n",
              "      <th>Domain</th>\n",
              "      <th>GENERAL MANAGEMENT SCORE (OUT of 50)</th>\n",
              "      <th>Domain Specific SCORE (OUT 50)</th>\n",
              "      <th>TOTAL SCORE (OUT of 100)</th>\n",
              "      <th>RANK</th>\n",
              "      <th>PERCENTILE</th>\n",
              "    </tr>\n",
              "  </thead>\n",
              "  <tbody>\n",
              "    <tr>\n",
              "      <th>0</th>\n",
              "      <td>0</td>\n",
              "      <td>Camila Wood</td>\n",
              "      <td>Stanford University, USA</td>\n",
              "      <td>B.Com</td>\n",
              "      <td>Honours</td>\n",
              "      <td>5th</td>\n",
              "      <td>Finance</td>\n",
              "      <td>50</td>\n",
              "      <td>50</td>\n",
              "      <td>100</td>\n",
              "      <td>1</td>\n",
              "      <td>1.000000</td>\n",
              "    </tr>\n",
              "    <tr>\n",
              "      <th>1</th>\n",
              "      <td>1</td>\n",
              "      <td>Alexander Thompson</td>\n",
              "      <td>Stanford University, USA</td>\n",
              "      <td>B.Com</td>\n",
              "      <td>Financial Services</td>\n",
              "      <td>5th</td>\n",
              "      <td>Finance</td>\n",
              "      <td>50</td>\n",
              "      <td>50</td>\n",
              "      <td>100</td>\n",
              "      <td>2</td>\n",
              "      <td>0.993377</td>\n",
              "    </tr>\n",
              "    <tr>\n",
              "      <th>2</th>\n",
              "      <td>2</td>\n",
              "      <td>Liam Taylor</td>\n",
              "      <td>Harvard University, USA</td>\n",
              "      <td>B.Com</td>\n",
              "      <td>Accounting Analytics</td>\n",
              "      <td>5th</td>\n",
              "      <td>BA</td>\n",
              "      <td>50</td>\n",
              "      <td>50</td>\n",
              "      <td>100</td>\n",
              "      <td>3</td>\n",
              "      <td>0.986755</td>\n",
              "    </tr>\n",
              "    <tr>\n",
              "      <th>3</th>\n",
              "      <td>3</td>\n",
              "      <td>Evelyn Jenkins</td>\n",
              "      <td>Stanford University, USA</td>\n",
              "      <td>B.Com</td>\n",
              "      <td>Honours</td>\n",
              "      <td>5th</td>\n",
              "      <td>Finance</td>\n",
              "      <td>49</td>\n",
              "      <td>50</td>\n",
              "      <td>99</td>\n",
              "      <td>4</td>\n",
              "      <td>0.980132</td>\n",
              "    </tr>\n",
              "    <tr>\n",
              "      <th>4</th>\n",
              "      <td>4</td>\n",
              "      <td>Michael Jackson</td>\n",
              "      <td>Harvard University, USA</td>\n",
              "      <td>MBA</td>\n",
              "      <td>International Business</td>\n",
              "      <td>3rd</td>\n",
              "      <td>IB</td>\n",
              "      <td>50</td>\n",
              "      <td>49</td>\n",
              "      <td>99</td>\n",
              "      <td>5</td>\n",
              "      <td>0.973510</td>\n",
              "    </tr>\n",
              "    <tr>\n",
              "      <th>146</th>\n",
              "      <td>146</td>\n",
              "      <td>Avery Lewis</td>\n",
              "      <td>Stanford University, USA</td>\n",
              "      <td>BBA</td>\n",
              "      <td>Financial Services</td>\n",
              "      <td>5th</td>\n",
              "      <td>Finance</td>\n",
              "      <td>16</td>\n",
              "      <td>12</td>\n",
              "      <td>28</td>\n",
              "      <td>147</td>\n",
              "      <td>0.033113</td>\n",
              "    </tr>\n",
              "    <tr>\n",
              "      <th>147</th>\n",
              "      <td>147</td>\n",
              "      <td>Ethan Martin</td>\n",
              "      <td>Stanford University, USA</td>\n",
              "      <td>BBA</td>\n",
              "      <td>International Business</td>\n",
              "      <td>5th</td>\n",
              "      <td>Generic</td>\n",
              "      <td>11</td>\n",
              "      <td>13</td>\n",
              "      <td>24</td>\n",
              "      <td>148</td>\n",
              "      <td>0.026490</td>\n",
              "    </tr>\n",
              "    <tr>\n",
              "      <th>148</th>\n",
              "      <td>148</td>\n",
              "      <td>Nicholas Rodriguez</td>\n",
              "      <td>Harvard University, USA</td>\n",
              "      <td>MBA</td>\n",
              "      <td>International Business</td>\n",
              "      <td>3rd</td>\n",
              "      <td>IB</td>\n",
              "      <td>16</td>\n",
              "      <td>8</td>\n",
              "      <td>24</td>\n",
              "      <td>149</td>\n",
              "      <td>0.019868</td>\n",
              "    </tr>\n",
              "    <tr>\n",
              "      <th>149</th>\n",
              "      <td>149</td>\n",
              "      <td>Samuel Perez</td>\n",
              "      <td>Stanford University, USA</td>\n",
              "      <td>BBA</td>\n",
              "      <td>International Business</td>\n",
              "      <td>5th</td>\n",
              "      <td>IB</td>\n",
              "      <td>12</td>\n",
              "      <td>8</td>\n",
              "      <td>20</td>\n",
              "      <td>150</td>\n",
              "      <td>0.013245</td>\n",
              "    </tr>\n",
              "    <tr>\n",
              "      <th>150</th>\n",
              "      <td>150</td>\n",
              "      <td>Emily Lee</td>\n",
              "      <td>Massachusetts Institute of Technology (MIT), USA</td>\n",
              "      <td>BBA</td>\n",
              "      <td>Digital Marketing</td>\n",
              "      <td>5th</td>\n",
              "      <td>DM</td>\n",
              "      <td>4</td>\n",
              "      <td>1</td>\n",
              "      <td>5</td>\n",
              "      <td>151</td>\n",
              "      <td>0.006623</td>\n",
              "    </tr>\n",
              "  </tbody>\n",
              "</table>\n",
              "</div>\n",
              "    <div class=\"colab-df-buttons\">\n",
              "\n",
              "  <div class=\"colab-df-container\">\n",
              "    <button class=\"colab-df-convert\" onclick=\"convertToInteractive('df-ecba0a66-c2d3-423d-8c3e-c6e232e607cf')\"\n",
              "            title=\"Convert this dataframe to an interactive table.\"\n",
              "            style=\"display:none;\">\n",
              "\n",
              "  <svg xmlns=\"http://www.w3.org/2000/svg\" height=\"24px\" viewBox=\"0 -960 960 960\">\n",
              "    <path d=\"M120-120v-720h720v720H120Zm60-500h600v-160H180v160Zm220 220h160v-160H400v160Zm0 220h160v-160H400v160ZM180-400h160v-160H180v160Zm440 0h160v-160H620v160ZM180-180h160v-160H180v160Zm440 0h160v-160H620v160Z\"/>\n",
              "  </svg>\n",
              "    </button>\n",
              "\n",
              "  <style>\n",
              "    .colab-df-container {\n",
              "      display:flex;\n",
              "      gap: 12px;\n",
              "    }\n",
              "\n",
              "    .colab-df-convert {\n",
              "      background-color: #E8F0FE;\n",
              "      border: none;\n",
              "      border-radius: 50%;\n",
              "      cursor: pointer;\n",
              "      display: none;\n",
              "      fill: #1967D2;\n",
              "      height: 32px;\n",
              "      padding: 0 0 0 0;\n",
              "      width: 32px;\n",
              "    }\n",
              "\n",
              "    .colab-df-convert:hover {\n",
              "      background-color: #E2EBFA;\n",
              "      box-shadow: 0px 1px 2px rgba(60, 64, 67, 0.3), 0px 1px 3px 1px rgba(60, 64, 67, 0.15);\n",
              "      fill: #174EA6;\n",
              "    }\n",
              "\n",
              "    .colab-df-buttons div {\n",
              "      margin-bottom: 4px;\n",
              "    }\n",
              "\n",
              "    [theme=dark] .colab-df-convert {\n",
              "      background-color: #3B4455;\n",
              "      fill: #D2E3FC;\n",
              "    }\n",
              "\n",
              "    [theme=dark] .colab-df-convert:hover {\n",
              "      background-color: #434B5C;\n",
              "      box-shadow: 0px 1px 3px 1px rgba(0, 0, 0, 0.15);\n",
              "      filter: drop-shadow(0px 1px 2px rgba(0, 0, 0, 0.3));\n",
              "      fill: #FFFFFF;\n",
              "    }\n",
              "  </style>\n",
              "\n",
              "    <script>\n",
              "      const buttonEl =\n",
              "        document.querySelector('#df-ecba0a66-c2d3-423d-8c3e-c6e232e607cf button.colab-df-convert');\n",
              "      buttonEl.style.display =\n",
              "        google.colab.kernel.accessAllowed ? 'block' : 'none';\n",
              "\n",
              "      async function convertToInteractive(key) {\n",
              "        const element = document.querySelector('#df-ecba0a66-c2d3-423d-8c3e-c6e232e607cf');\n",
              "        const dataTable =\n",
              "          await google.colab.kernel.invokeFunction('convertToInteractive',\n",
              "                                                    [key], {});\n",
              "        if (!dataTable) return;\n",
              "\n",
              "        const docLinkHtml = 'Like what you see? Visit the ' +\n",
              "          '<a target=\"_blank\" href=https://colab.research.google.com/notebooks/data_table.ipynb>data table notebook</a>'\n",
              "          + ' to learn more about interactive tables.';\n",
              "        element.innerHTML = '';\n",
              "        dataTable['output_type'] = 'display_data';\n",
              "        await google.colab.output.renderOutput(dataTable, element);\n",
              "        const docLink = document.createElement('div');\n",
              "        docLink.innerHTML = docLinkHtml;\n",
              "        element.appendChild(docLink);\n",
              "      }\n",
              "    </script>\n",
              "  </div>\n",
              "\n",
              "\n",
              "<div id=\"df-4216ebd4-5e90-4248-8c6c-97290080115f\">\n",
              "  <button class=\"colab-df-quickchart\" onclick=\"quickchart('df-4216ebd4-5e90-4248-8c6c-97290080115f')\"\n",
              "            title=\"Suggest charts.\"\n",
              "            style=\"display:none;\">\n",
              "\n",
              "<svg xmlns=\"http://www.w3.org/2000/svg\" height=\"24px\"viewBox=\"0 0 24 24\"\n",
              "     width=\"24px\">\n",
              "    <g>\n",
              "        <path d=\"M19 3H5c-1.1 0-2 .9-2 2v14c0 1.1.9 2 2 2h14c1.1 0 2-.9 2-2V5c0-1.1-.9-2-2-2zM9 17H7v-7h2v7zm4 0h-2V7h2v10zm4 0h-2v-4h2v4z\"/>\n",
              "    </g>\n",
              "</svg>\n",
              "  </button>\n",
              "\n",
              "<style>\n",
              "  .colab-df-quickchart {\n",
              "      --bg-color: #E8F0FE;\n",
              "      --fill-color: #1967D2;\n",
              "      --hover-bg-color: #E2EBFA;\n",
              "      --hover-fill-color: #174EA6;\n",
              "      --disabled-fill-color: #AAA;\n",
              "      --disabled-bg-color: #DDD;\n",
              "  }\n",
              "\n",
              "  [theme=dark] .colab-df-quickchart {\n",
              "      --bg-color: #3B4455;\n",
              "      --fill-color: #D2E3FC;\n",
              "      --hover-bg-color: #434B5C;\n",
              "      --hover-fill-color: #FFFFFF;\n",
              "      --disabled-bg-color: #3B4455;\n",
              "      --disabled-fill-color: #666;\n",
              "  }\n",
              "\n",
              "  .colab-df-quickchart {\n",
              "    background-color: var(--bg-color);\n",
              "    border: none;\n",
              "    border-radius: 50%;\n",
              "    cursor: pointer;\n",
              "    display: none;\n",
              "    fill: var(--fill-color);\n",
              "    height: 32px;\n",
              "    padding: 0;\n",
              "    width: 32px;\n",
              "  }\n",
              "\n",
              "  .colab-df-quickchart:hover {\n",
              "    background-color: var(--hover-bg-color);\n",
              "    box-shadow: 0 1px 2px rgba(60, 64, 67, 0.3), 0 1px 3px 1px rgba(60, 64, 67, 0.15);\n",
              "    fill: var(--button-hover-fill-color);\n",
              "  }\n",
              "\n",
              "  .colab-df-quickchart-complete:disabled,\n",
              "  .colab-df-quickchart-complete:disabled:hover {\n",
              "    background-color: var(--disabled-bg-color);\n",
              "    fill: var(--disabled-fill-color);\n",
              "    box-shadow: none;\n",
              "  }\n",
              "\n",
              "  .colab-df-spinner {\n",
              "    border: 2px solid var(--fill-color);\n",
              "    border-color: transparent;\n",
              "    border-bottom-color: var(--fill-color);\n",
              "    animation:\n",
              "      spin 1s steps(1) infinite;\n",
              "  }\n",
              "\n",
              "  @keyframes spin {\n",
              "    0% {\n",
              "      border-color: transparent;\n",
              "      border-bottom-color: var(--fill-color);\n",
              "      border-left-color: var(--fill-color);\n",
              "    }\n",
              "    20% {\n",
              "      border-color: transparent;\n",
              "      border-left-color: var(--fill-color);\n",
              "      border-top-color: var(--fill-color);\n",
              "    }\n",
              "    30% {\n",
              "      border-color: transparent;\n",
              "      border-left-color: var(--fill-color);\n",
              "      border-top-color: var(--fill-color);\n",
              "      border-right-color: var(--fill-color);\n",
              "    }\n",
              "    40% {\n",
              "      border-color: transparent;\n",
              "      border-right-color: var(--fill-color);\n",
              "      border-top-color: var(--fill-color);\n",
              "    }\n",
              "    60% {\n",
              "      border-color: transparent;\n",
              "      border-right-color: var(--fill-color);\n",
              "    }\n",
              "    80% {\n",
              "      border-color: transparent;\n",
              "      border-right-color: var(--fill-color);\n",
              "      border-bottom-color: var(--fill-color);\n",
              "    }\n",
              "    90% {\n",
              "      border-color: transparent;\n",
              "      border-bottom-color: var(--fill-color);\n",
              "    }\n",
              "  }\n",
              "</style>\n",
              "\n",
              "  <script>\n",
              "    async function quickchart(key) {\n",
              "      const quickchartButtonEl =\n",
              "        document.querySelector('#' + key + ' button');\n",
              "      quickchartButtonEl.disabled = true;  // To prevent multiple clicks.\n",
              "      quickchartButtonEl.classList.add('colab-df-spinner');\n",
              "      try {\n",
              "        const charts = await google.colab.kernel.invokeFunction(\n",
              "            'suggestCharts', [key], {});\n",
              "      } catch (error) {\n",
              "        console.error('Error during call to suggestCharts:', error);\n",
              "      }\n",
              "      quickchartButtonEl.classList.remove('colab-df-spinner');\n",
              "      quickchartButtonEl.classList.add('colab-df-quickchart-complete');\n",
              "    }\n",
              "    (() => {\n",
              "      let quickchartButtonEl =\n",
              "        document.querySelector('#df-4216ebd4-5e90-4248-8c6c-97290080115f button');\n",
              "      quickchartButtonEl.style.display =\n",
              "        google.colab.kernel.accessAllowed ? 'block' : 'none';\n",
              "    })();\n",
              "  </script>\n",
              "</div>\n",
              "    </div>\n",
              "  </div>\n"
            ]
          },
          "metadata": {},
          "execution_count": 3
        }
      ]
    },
    {
      "cell_type": "markdown",
      "source": [
        "## Preparação de Dados"
      ],
      "metadata": {
        "id": "8TtYyT3tzOGr"
      }
    },
    {
      "cell_type": "code",
      "source": [
        "# Converte variáveis categóricas em formatos numéricos usando LabelEncoder\n",
        "label_encoders = {}\n",
        "categorical_columns = ['UNIVERSITY', 'PROGRAM NAME', 'Specialisation', 'SEMESTER', 'Domain']\n",
        "\n",
        "for col in categorical_columns:\n",
        "    le = LabelEncoder()\n",
        "    df[col] = le.fit_transform(df[col])\n",
        "    label_encoders[col] = le\n",
        "\n",
        "# Divide os dados em conjuntos de treinamento e teste\n",
        "X = df.drop(columns=['NAME OF THE STUDENT', 'TOTAL SCORE (OUT of 100)', 'RANK', 'PERCENTILE'])\n",
        "y = df['TOTAL SCORE (OUT of 100)']\n",
        "\n",
        "X_train, X_test, y_train, y_test = train_test_split(X, y, test_size=0.2, random_state=42)\n",
        "\n",
        "X_train.shape, X_test.shape\n"
      ],
      "metadata": {
        "colab": {
          "base_uri": "https://localhost:8080/"
        },
        "id": "VfJBzPI8KWPC",
        "outputId": "68a47395-a616-405c-c566-cdf036604b0d"
      },
      "execution_count": 4,
      "outputs": [
        {
          "output_type": "execute_result",
          "data": {
            "text/plain": [
              "((120, 8), (31, 8))"
            ]
          },
          "metadata": {},
          "execution_count": 4
        }
      ]
    },
    {
      "cell_type": "markdown",
      "source": [
        "## Seleção de Modelos"
      ],
      "metadata": {
        "id": "fAlcyoGcz7PT"
      }
    },
    {
      "cell_type": "markdown",
      "source": [
        "### Regressão Linear"
      ],
      "metadata": {
        "id": "GFyl2WzHHa8H"
      }
    },
    {
      "cell_type": "code",
      "source": [
        "# Treina um modelo de regressão linear\n",
        "linear_regressor = LinearRegression()\n",
        "linear_regressor.fit(X_train, y_train)\n",
        "\n",
        "# Prediz as pontuações no conjunto de teste\n",
        "y_pred = linear_regressor.predict(X_test)\n",
        "\n",
        "# Calcula métricas de avaliação\n",
        "mse = mean_squared_error(y_test, y_pred)\n",
        "r2 = r2_score(y_test, y_pred)\n",
        "\n",
        "mse, r2\n"
      ],
      "metadata": {
        "colab": {
          "base_uri": "https://localhost:8080/"
        },
        "id": "EXp6wJYzKcHr",
        "outputId": "6970639e-75cb-40dc-9dd2-72c30f111204"
      },
      "execution_count": 5,
      "outputs": [
        {
          "output_type": "execute_result",
          "data": {
            "text/plain": [
              "(6.718448411381633e-27, 1.0)"
            ]
          },
          "metadata": {},
          "execution_count": 5
        }
      ]
    },
    {
      "cell_type": "markdown",
      "source": [
        "Um valor R² de 1.0 indica que o modelo explica perfeitamente a variabilidade dos dados de resposta em torno de sua média. No entanto, um valor tão alto é inusual e pode indicar um ajuste excessivo (overfitting), onde o modelo pode estar muito bem ajustado aos dados de treinamento e pode não se sair bem em novos dados.\n",
        "\n",
        "O MSE extremamente baixo também sugere que o modelo se ajustou muito bem aos dados de treinamento."
      ],
      "metadata": {
        "id": "ssL1TamKG21I"
      }
    },
    {
      "cell_type": "code",
      "source": [
        "# Calcula os resíduos\n",
        "residuals = y_test - y_pred\n",
        "\n",
        "# Plota os resíduos\n",
        "plt.figure(figsize=(10, 6))\n",
        "sns.scatterplot(x=y_test, y=residuals)\n",
        "plt.axhline(y=0, color='r', linestyle='--')\n",
        "plt.title('Resíduos vs. Valores Observados')\n",
        "plt.xlabel('Valores Observados')\n",
        "plt.ylabel('Resíduos')\n",
        "plt.tight_layout()\n",
        "\n",
        "plt.show()\n"
      ],
      "metadata": {
        "colab": {
          "base_uri": "https://localhost:8080/",
          "height": 0
        },
        "id": "pbRTEnYzKfwD",
        "outputId": "64ae5294-84ab-4508-a4cb-0c7ad57031c7"
      },
      "execution_count": 8,
      "outputs": [
        {
          "output_type": "display_data",
          "data": {
            "text/plain": [
              "<Figure size 1000x600 with 1 Axes>"
            ],
            "image/png": "[encoded data removed]"
          },
          "metadata": {}
        }
      ]
    },
    {
      "cell_type": "markdown",
      "source": [
        "Vemos que todos os resíduos estão exatamente na linha vermelha, indicando uma diferença de zero. Isso sugere que o modelo previu perfeitamente os valores observados.\n",
        "\n",
        "Este comportamento é inusual e indica que o modelo pode estar ajustado excessivamente aos dados de treinamento.\n",
        "\n",
        "Quando um modelo está ajustado excessivamente, ele pode não se sair bem em novos dados porque se ajusta demais às peculiaridades do conjunto de treinamento. Em outras palavras, ele pode capturar o ruído nos dados de treinamento em vez da relação subjacente real.\n",
        "\n",
        "Uma possível solução para isso é tentar um modelo mais simples ou usar técnicas de regularização. Também pode ser útil adicionar mais dados, se disponível, ou usar validação cruzada para obter uma avaliação mais robusta do desempenho do modelo"
      ],
      "metadata": {
        "id": "tMOKj6wpHT-5"
      }
    },
    {
      "cell_type": "markdown",
      "source": [
        "### Árvore de Decisão"
      ],
      "metadata": {
        "id": "Z02IvvpJHfw1"
      }
    },
    {
      "cell_type": "code",
      "source": [
        "# Treina um modelo de Árvore de Decisão\n",
        "tree_regressor = DecisionTreeRegressor(random_state=42)\n",
        "tree_regressor.fit(X_train, y_train)\n",
        "\n",
        "# Prediz as pontuações no conjunto de teste\n",
        "y_pred_tree = tree_regressor.predict(X_test)\n",
        "\n",
        "# Calcula métricas de avaliação\n",
        "mse_tree = mean_squared_error(y_test, y_pred_tree)\n",
        "r2_tree = r2_score(y_test, y_pred_tree)\n",
        "\n",
        "mse_tree, r2_tree\n"
      ],
      "metadata": {
        "colab": {
          "base_uri": "https://localhost:8080/"
        },
        "id": "Ov-4Bh54KnM6",
        "outputId": "ac0e5dca-f5cf-43cf-93b3-f63be85179e0"
      },
      "execution_count": 9,
      "outputs": [
        {
          "output_type": "execute_result",
          "data": {
            "text/plain": [
              "(0.8064516129032258, 0.9982753556105464)"
            ]
          },
          "metadata": {},
          "execution_count": 9
        }
      ]
    },
    {
      "cell_type": "markdown",
      "source": [
        "O valor R² ainda é extremamente alto, indicando que o modelo explica uma grande proporção da variabilidade nos dados. No entanto, o MSE é agora maior do que o do modelo de regressão linear, sugerindo que este modelo não se ajusta tão perfeitamente aos dados quanto o modelo anterior.\n",
        "\n",
        "Isso é uma boa indicação, pois sugere que este modelo pode ser menos propenso a overfitting do que o modelo de regressão linear."
      ],
      "metadata": {
        "id": "GZsex_x3H4CK"
      }
    },
    {
      "cell_type": "code",
      "source": [
        "# Calcula os resíduos para o modelo de Árvore de Decisão\n",
        "residuals_tree = y_test - y_pred_tree\n",
        "\n",
        "# Plota os resíduos\n",
        "plt.figure(figsize=(10, 6))\n",
        "sns.scatterplot(x=y_test, y=residuals_tree)\n",
        "plt.axhline(y=0, color='r', linestyle='--')\n",
        "plt.title('Resíduos vs. Valores Observados (Árvore de Decisão)')\n",
        "plt.xlabel('Valores Observados')\n",
        "plt.ylabel('Resíduos')\n",
        "plt.tight_layout()\n",
        "\n",
        "plt.show()\n"
      ],
      "metadata": {
        "colab": {
          "base_uri": "https://localhost:8080/",
          "height": 607
        },
        "id": "SOnPp_SJKqMk",
        "outputId": "efefd69d-a8b9-4e03-ea77-aecb9caa1395"
      },
      "execution_count": 10,
      "outputs": [
        {
          "output_type": "display_data",
          "data": {
            "text/plain": [
              "<Figure size 1000x600 with 1 Axes>"
            ],
            "image/png": "[encoded data removed]"
          },
          "metadata": {}
        }
      ]
    },
    {
      "cell_type": "markdown",
      "source": [
        "* Assim como antes, a linha vermelha no gráfico representa uma diferença de zero entre os valores observados e previstos.\n",
        "\n",
        "* Diferentemente do modelo de regressão linear, vemos que os resíduos para o modelo de Árvore de Decisão não estão exatamente na linha vermelha, indicando que há algumas diferenças entre os valores observados e previstos.\n",
        "\n",
        "* No entanto, a maioria dos resíduos está próxima de zero, indicando que o modelo está se ajustando bem aos dados.\n",
        "\n",
        "Em resumo, o modelo de Árvore de Decisão parece oferecer um equilíbrio entre ajuste e generalização. Ele se ajusta bem aos dados de treinamento, mas não tão perfeitamente quanto o modelo de regressão linear, o que pode ser uma boa indicação de sua capacidade de generalização."
      ],
      "metadata": {
        "id": "-inmsQVbICTA"
      }
    },
    {
      "cell_type": "markdown",
      "source": [
        "#### Validação Cruzada"
      ],
      "metadata": {
        "id": "ECZhmwqEIPrt"
      }
    },
    {
      "cell_type": "code",
      "source": [
        "# Realiza validação cruzada para o modelo de Árvore de Decisão\n",
        "cross_val_scores_tree = cross_val_score(tree_regressor, X_train, y_train, cv=5, scoring='neg_mean_squared_error')\n",
        "\n",
        "# Como os scores são negativos (convenção do Scikit-Learn para erros), vamos inverter o sinal\n",
        "mse_scores_tree = -cross_val_scores_tree\n",
        "\n",
        "# Calcula a média e o desvio padrão do MSE\n",
        "mean_mse_tree = mse_scores_tree.mean()\n",
        "std_mse_tree = mse_scores_tree.std()\n",
        "\n",
        "mean_mse_tree, std_mse_tree\n"
      ],
      "metadata": {
        "colab": {
          "base_uri": "https://localhost:8080/"
        },
        "id": "rNX3-ggqKteA",
        "outputId": "c9713f38-2aa8-48ef-8311-2385c2ba14da"
      },
      "execution_count": 11,
      "outputs": [
        {
          "output_type": "execute_result",
          "data": {
            "text/plain": [
              "(9.291666666666668, 11.187697856723398)"
            ]
          },
          "metadata": {},
          "execution_count": 11
        }
      ]
    },
    {
      "cell_type": "markdown",
      "source": [
        "### Floresta Aleatória"
      ],
      "metadata": {
        "id": "_gNf1SeAI6FX"
      }
    },
    {
      "cell_type": "code",
      "source": [
        "# Treina um modelo de Floresta Aleatória\n",
        "random_forest_regressor = RandomForestRegressor(n_estimators=100, random_state=42)\n",
        "random_forest_regressor.fit(X_train, y_train)\n",
        "\n",
        "# Prediz as pontuações no conjunto de teste\n",
        "y_pred_rf = random_forest_regressor.predict(X_test)\n",
        "\n",
        "# Calcula métricas de avaliação\n",
        "mse_rf = mean_squared_error(y_test, y_pred_rf)\n",
        "r2_rf = r2_score(y_test, y_pred_rf)\n",
        "\n",
        "mse_rf, r2_rf\n"
      ],
      "metadata": {
        "colab": {
          "base_uri": "https://localhost:8080/"
        },
        "id": "oc-dj32YLTM0",
        "outputId": "37f2170b-0d99-47ef-844c-c6e9de41936a"
      },
      "execution_count": 14,
      "outputs": [
        {
          "output_type": "execute_result",
          "data": {
            "text/plain": [
              "(0.8630193548387102, 0.9981543821544925)"
            ]
          },
          "metadata": {},
          "execution_count": 14
        }
      ]
    },
    {
      "cell_type": "markdown",
      "source": [
        "O modelo de Floresta Aleatória tem um desempenho semelhante ao modelo de Árvore de Decisão em termos de R², mas com um MSE ligeiramente maior. No entanto, as Florestas Aleatórias têm a vantagem de serem menos propensas ao overfitting do que uma única Árvore de Decisão, pois combinam as previsões de várias árvores."
      ],
      "metadata": {
        "id": "f79d8Cp5JIDx"
      }
    },
    {
      "cell_type": "code",
      "source": [
        "# Calcula os resíduos para o modelo de Floresta Aleatória\n",
        "residuals_rf = y_test - y_pred_rf\n",
        "\n",
        "# Plota os resíduos\n",
        "plt.figure(figsize=(10, 6))\n",
        "sns.scatterplot(x=y_test, y=residuals_rf)\n",
        "plt.axhline(y=0, color='r', linestyle='--')\n",
        "plt.title('Resíduos vs. Valores Observados (Floresta Aleatória)')\n",
        "plt.xlabel('Valores Observados')\n",
        "plt.ylabel('Resíduos')\n",
        "plt.tight_layout()\n",
        "\n",
        "plt.show()\n"
      ],
      "metadata": {
        "colab": {
          "base_uri": "https://localhost:8080/",
          "height": 607
        },
        "id": "57w3Z8sHLZGC",
        "outputId": "d4aed34b-4eee-4ee5-c8a8-87119e54f7f5"
      },
      "execution_count": 15,
      "outputs": [
        {
          "output_type": "display_data",
          "data": {
            "text/plain": [
              "<Figure size 1000x600 with 1 Axes>"
            ],
            "image/png": "[encoded data removed]"
          },
          "metadata": {}
        }
      ]
    },
    {
      "cell_type": "markdown",
      "source": [
        "* A linha vermelha no gráfico representa uma diferença de zero entre os valores observados e previstos.\n",
        "* Vemos que, assim como o modelo de Árvore de Decisão, os resíduos para a Floresta Aleatória estão próximos de zero, mas há algumas diferenças notáveis entre os valores observados e previstos."
      ],
      "metadata": {
        "id": "Z6rPbn0lJapE"
      }
    },
    {
      "cell_type": "markdown",
      "source": [
        "#### Ajuste de Hiperparâmetros"
      ],
      "metadata": {
        "id": "CHk0kwjiJo8C"
      }
    },
    {
      "cell_type": "code",
      "source": [
        "# Define os hiperparâmetros a serem ajustados\n",
        "param_grid = {\n",
        "    'n_estimators': [50, 100, 150],\n",
        "    'max_depth': [None, 10, 20, 30],\n",
        "    'min_samples_split': [2, 5, 10],\n",
        "    'min_samples_leaf': [1, 2, 4]\n",
        "}\n",
        "\n",
        "# Usa GridSearchCV para ajustar os hiperparâmetros\n",
        "grid_search = GridSearchCV(estimator=random_forest_regressor, param_grid=param_grid,\n",
        "                           scoring='neg_mean_squared_error', cv=5, n_jobs=-1, verbose=2)\n",
        "grid_search.fit(X_train, y_train)\n",
        "\n",
        "# Obtêm os melhores hiperparâmetros\n",
        "best_params = grid_search.best_params_\n",
        "best_params\n"
      ],
      "metadata": {
        "colab": {
          "base_uri": "https://localhost:8080/"
        },
        "id": "S0XW_rC0Leww",
        "outputId": "6e94df26-b9d8-4a2b-a3f2-7fd275c8af1d"
      },
      "execution_count": 16,
      "outputs": [
        {
          "output_type": "stream",
          "name": "stdout",
          "text": [
            "Fitting 5 folds for each of 108 candidates, totalling 540 fits\n"
          ]
        },
        {
          "output_type": "execute_result",
          "data": {
            "text/plain": [
              "{'max_depth': None,\n",
              " 'min_samples_leaf': 1,\n",
              " 'min_samples_split': 2,\n",
              " 'n_estimators': 50}"
            ]
          },
          "metadata": {},
          "execution_count": 16
        }
      ]
    },
    {
      "cell_type": "code",
      "source": [
        "# Treina o modelo de Floresta Aleatória com os melhores hiperparâmetros\n",
        "best_rf_regressor = RandomForestRegressor(n_estimators=50, max_depth=None, min_samples_leaf=1,\n",
        "                                          min_samples_split=2, random_state=42)\n",
        "best_rf_regressor.fit(X_train, y_train)\n",
        "\n",
        "# Prediz as pontuações no conjunto de teste\n",
        "y_pred_best_rf = best_rf_regressor.predict(X_test)\n",
        "\n",
        "# Calcula métricas de avaliação\n",
        "mse_best_rf = mean_squared_error(y_test, y_pred_best_rf)\n",
        "r2_best_rf = r2_score(y_test, y_pred_best_rf)\n",
        "\n",
        "mse_best_rf, r2_best_rf\n"
      ],
      "metadata": {
        "colab": {
          "base_uri": "https://localhost:8080/"
        },
        "id": "VYZ55Jn9Mle0",
        "outputId": "fd826510-3473-48ba-9d8d-96e820b8c34d"
      },
      "execution_count": 18,
      "outputs": [
        {
          "output_type": "execute_result",
          "data": {
            "text/plain": [
              "(0.5622451612903229, 0.9987976055259832)"
            ]
          },
          "metadata": {},
          "execution_count": 18
        }
      ]
    },
    {
      "cell_type": "markdown",
      "source": [
        "Com os hiperparâmetros otimizados, observamos uma melhoria no desempenho do modelo de Floresta Aleatória, em comparação com o modelo original. O MSE diminuiu, o que indica um erro menor, e o R² permaneceu alto, indicando que o modelo ajusta bem aos dados."
      ],
      "metadata": {
        "id": "UqdIZ81hJ0du"
      }
    },
    {
      "cell_type": "markdown",
      "source": [
        "### Gradient Boosting"
      ],
      "metadata": {
        "id": "B1WzVOkDKXjP"
      }
    },
    {
      "cell_type": "code",
      "source": [
        "# Treina um modelo Gradient Boosting\n",
        "gb_regressor = GradientBoostingRegressor(n_estimators=100, random_state=42)\n",
        "gb_regressor.fit(X_train, y_train)\n",
        "\n",
        "# Prediz as pontuações no conjunto de teste\n",
        "y_pred_gb = gb_regressor.predict(X_test)\n",
        "\n",
        "# Calcula métricas de avaliação\n",
        "mse_gb = mean_squared_error(y_test, y_pred_gb)\n",
        "r2_gb = r2_score(y_test, y_pred_gb)\n",
        "\n",
        "mse_gb, r2_gb\n"
      ],
      "metadata": {
        "colab": {
          "base_uri": "https://localhost:8080/"
        },
        "id": "n0YopxZ6Msvf",
        "outputId": "4e1bf745-60df-4703-cdef-03bf6773e6a7"
      },
      "execution_count": 19,
      "outputs": [
        {
          "output_type": "execute_result",
          "data": {
            "text/plain": [
              "(0.47242040202114555, 0.9989897010771966)"
            ]
          },
          "metadata": {},
          "execution_count": 19
        }
      ]
    },
    {
      "cell_type": "markdown",
      "source": [
        "O modelo Gradient Boosting apresentou um desempenho ainda melhor do que a Floresta Aleatória otimizada, com um MSE ligeiramente menor e um R² ainda mais próximo de 1. Este é um excelente resultado!"
      ],
      "metadata": {
        "id": "iLftvam3KvFt"
      }
    },
    {
      "cell_type": "markdown",
      "source": [
        "#### Ajuste de Hiperparâmetros"
      ],
      "metadata": {
        "id": "u2Za61SBK5gJ"
      }
    },
    {
      "cell_type": "code",
      "source": [
        "# Define os hiperparâmetros a serem ajustados para o Gradient Boosting\n",
        "param_dist_gb = {\n",
        "    'n_estimators': [50, 100, 150, 200],\n",
        "    'max_depth': [3, 5, 7, 9],\n",
        "    'learning_rate': [0.01, 0.05, 0.1, 0.5],\n",
        "    'min_samples_split': [2, 4, 6],\n",
        "    'min_samples_leaf': [1, 2, 3]\n",
        "}\n",
        "\n",
        "# Usa RandomizedSearchCV para ajustar os hiperparâmetros\n",
        "random_search_gb = RandomizedSearchCV(estimator=gb_regressor, param_distributions=param_dist_gb,\n",
        "                                      n_iter=50, scoring='neg_mean_squared_error', cv=5, n_jobs=-1, verbose=2, random_state=42)\n",
        "random_search_gb.fit(X_train, y_train)\n",
        "\n",
        "# Obtêm os melhores hiperparâmetros\n",
        "best_params_gb = random_search_gb.best_params_\n",
        "best_params_gb\n"
      ],
      "metadata": {
        "colab": {
          "base_uri": "https://localhost:8080/"
        },
        "id": "UFykXBBBMzW-",
        "outputId": "51079ac5-30d1-45c7-8e2e-994a242e42eb"
      },
      "execution_count": 20,
      "outputs": [
        {
          "output_type": "stream",
          "name": "stdout",
          "text": [
            "Fitting 5 folds for each of 50 candidates, totalling 250 fits\n"
          ]
        },
        {
          "output_type": "execute_result",
          "data": {
            "text/plain": [
              "{'n_estimators': 100,\n",
              " 'min_samples_split': 6,\n",
              " 'min_samples_leaf': 1,\n",
              " 'max_depth': 3,\n",
              " 'learning_rate': 0.05}"
            ]
          },
          "metadata": {},
          "execution_count": 20
        }
      ]
    },
    {
      "cell_type": "code",
      "source": [
        "# Treina o modelo Gradient Boosting com os melhores hiperparâmetros\n",
        "best_gb_regressor = GradientBoostingRegressor(n_estimators=100, max_depth=3, learning_rate=0.05,\n",
        "                                              min_samples_split=6, min_samples_leaf=1, random_state=42)\n",
        "best_gb_regressor.fit(X_train, y_train)\n",
        "\n",
        "# Prediz as pontuações no conjunto de teste\n",
        "y_pred_best_gb = best_gb_regressor.predict(X_test)\n",
        "\n",
        "# Calcula métricas de avaliação\n",
        "mse_best_gb = mean_squared_error(y_test, y_pred_best_gb)\n",
        "r2_best_gb = r2_score(y_test, y_pred_best_gb)\n",
        "\n",
        "mse_best_gb, r2_best_gb\n"
      ],
      "metadata": {
        "colab": {
          "base_uri": "https://localhost:8080/"
        },
        "id": "mgNniuwsNJ6x",
        "outputId": "dcfb1ed2-afb7-43ac-b66f-c7b2739dec3d"
      },
      "execution_count": 21,
      "outputs": [
        {
          "output_type": "execute_result",
          "data": {
            "text/plain": [
              "(0.5740543756656946, 0.9987723508237909)"
            ]
          },
          "metadata": {},
          "execution_count": 21
        }
      ]
    },
    {
      "cell_type": "markdown",
      "source": [
        "O Gradient Boosting com hiperparâmetros otimizados apresentou um desempenho similar ao modelo original, com um R² muito próximo de 1, indicando que o modelo se ajusta muito bem aos dados."
      ],
      "metadata": {
        "id": "w19ZKoe-LDlE"
      }
    },
    {
      "cell_type": "markdown",
      "source": [
        "### XGBoost"
      ],
      "metadata": {
        "id": "ztby7bh_LkSC"
      }
    },
    {
      "cell_type": "code",
      "source": [
        "# Treina um modelo XGBoost\n",
        "xgb_regressor = xgb.XGBRegressor(objective ='reg:squarederror', n_estimators=100, learning_rate=0.05, max_depth=3, random_state=42)\n",
        "xgb_regressor.fit(X_train, y_train)\n",
        "\n",
        "# Prediz as pontuações no conjunto de teste\n",
        "y_pred_xgb = xgb_regressor.predict(X_test)\n",
        "\n",
        "# Calcula métricas de avaliação\n",
        "mse_xgb = mean_squared_error(y_test, y_pred_xgb)\n",
        "r2_xgb = r2_score(y_test, y_pred_xgb)\n",
        "\n",
        "mse_xgb, r2_xgb\n"
      ],
      "metadata": {
        "colab": {
          "base_uri": "https://localhost:8080/"
        },
        "id": "I0ty8Q5gNxmh",
        "outputId": "b1185b20-0433-4751-8b46-6ccb2156e0da"
      },
      "execution_count": 22,
      "outputs": [
        {
          "output_type": "execute_result",
          "data": {
            "text/plain": [
              "(1.699455575270305, 0.9963656139114606)"
            ]
          },
          "metadata": {},
          "execution_count": 22
        }
      ]
    },
    {
      "cell_type": "markdown",
      "source": [
        "Embora o modelo XGBoost apresente um desempenho um pouco inferior ao dos modelos Gradient Boosting e Floresta Aleatória em termos de R² e MSE, ele ainda apresenta um excelente ajuste aos dados. Vale a pena notar que cada modelo tem suas próprias características e pode se comportar de maneira diferente com diferentes conjuntos de dados ou distribuições"
      ],
      "metadata": {
        "id": "RjqxrDUiL9qN"
      }
    },
    {
      "cell_type": "markdown",
      "source": [
        "#### Ajustes de hiperparâmetros"
      ],
      "metadata": {
        "id": "RaTGJQvDMSQx"
      }
    },
    {
      "cell_type": "code",
      "source": [
        "# Define os hiperparâmetros a serem ajustados para o XGBoost\n",
        "param_dist_xgb = {\n",
        "    'n_estimators': [50, 100, 150, 200],\n",
        "    'max_depth': [3, 5, 7, 9],\n",
        "    'learning_rate': [0.01, 0.05, 0.1, 0.5],\n",
        "    'min_child_weight': [1, 2, 3, 4],\n",
        "    'gamma': [0, 0.1, 0.2],\n",
        "    'subsample': [0.7, 0.8, 0.9, 1],\n",
        "    'colsample_bytree': [0.7, 0.8, 0.9, 1]\n",
        "}\n",
        "\n",
        "# Cria o modelo XGBoost\n",
        "xgb_regressor = xgb.XGBRegressor(objective ='reg:squarederror', random_state=42)\n",
        "\n",
        "# Usa RandomizedSearchCV para ajustar os hiperparâmetros\n",
        "random_search_xgb = RandomizedSearchCV(estimator=xgb_regressor, param_distributions=param_dist_xgb,\n",
        "                                       n_iter=50, scoring='neg_mean_squared_error', cv=5, n_jobs=-1, verbose=2, random_state=42)\n",
        "random_search_xgb.fit(X_train, y_train)\n",
        "\n",
        "# Obtêm os melhores hiperparâmetros\n",
        "best_params_xgb = random_search_xgb.best_params_\n",
        "best_params_xgb\n"
      ],
      "metadata": {
        "colab": {
          "base_uri": "https://localhost:8080/"
        },
        "id": "ue4u-006OOJL",
        "outputId": "ce5b44c9-3342-4348-8a57-f71d3f72f1dc"
      },
      "execution_count": 23,
      "outputs": [
        {
          "output_type": "stream",
          "name": "stdout",
          "text": [
            "Fitting 5 folds for each of 50 candidates, totalling 250 fits\n"
          ]
        },
        {
          "output_type": "execute_result",
          "data": {
            "text/plain": [
              "{'subsample': 0.9,\n",
              " 'n_estimators': 200,\n",
              " 'min_child_weight': 1,\n",
              " 'max_depth': 3,\n",
              " 'learning_rate': 0.05,\n",
              " 'gamma': 0.2,\n",
              " 'colsample_bytree': 0.8}"
            ]
          },
          "metadata": {},
          "execution_count": 23
        }
      ]
    },
    {
      "cell_type": "code",
      "source": [
        "# Treina o modelo XGBoost com os melhores hiperparâmetros\n",
        "best_xgb_regressor = xgb.XGBRegressor(objective ='reg:squarederror', n_estimators=200, max_depth=3, learning_rate=0.05,\n",
        "                                      min_child_weight=1, gamma=0.2, subsample=0.9, colsample_bytree=0.8, random_state=42)\n",
        "best_xgb_regressor.fit(X_train, y_train)\n",
        "\n",
        "# Prediz as pontuações no conjunto de teste\n",
        "y_pred_best_xgb = best_xgb_regressor.predict(X_test)\n",
        "\n",
        "# Calcula métricas de avaliação\n",
        "mse_best_xgb = mean_squared_error(y_test, y_pred_best_xgb)\n",
        "r2_best_xgb = r2_score(y_test, y_pred_best_xgb)\n",
        "\n",
        "mse_best_xgb, r2_best_xgb\n"
      ],
      "metadata": {
        "colab": {
          "base_uri": "https://localhost:8080/"
        },
        "id": "P4NamjraOdeN",
        "outputId": "b2db88f0-bd21-43b7-e835-c613ad3bce8d"
      },
      "execution_count": 24,
      "outputs": [
        {
          "output_type": "execute_result",
          "data": {
            "text/plain": [
              "(1.30245238108452, 0.9972146286824558)"
            ]
          },
          "metadata": {},
          "execution_count": 24
        }
      ]
    },
    {
      "cell_type": "markdown",
      "source": [
        "Com os hiperparâmetros otimizados, o modelo XGBoost apresentou uma melhoria em comparação ao modelo original. Ainda assim, todos os modelos explorados mostraram desempenhos excelentes, tornando a escolha do modelo final uma decisão baseada em nuances e requisitos específicos, como interpretabilidade, eficiência computacional, entre outros."
      ],
      "metadata": {
        "id": "LelwkJclMjj1"
      }
    }
  ]
}