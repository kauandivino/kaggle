{
  "nbformat": 4,
  "nbformat_minor": 0,
  "metadata": {
    "colab": {
      "provenance": []
    },
    "kernelspec": {
      "name": "python3",
      "display_name": "Python 3"
    },
    "language_info": {
      "name": "python"
    }
  },
  "cells": [
    {
      "cell_type": "markdown",
      "source": [
        "#Treinamento de modelos"
      ],
      "metadata": {
        "id": "_FttuZXVKVTx"
      }
    },
    {
      "cell_type": "markdown",
      "source": [
        "## Importando biblioteca e dataset"
      ],
      "metadata": {
        "id": "BdCqsfFBkgoP"
      }
    },
    {
      "cell_type": "code",
      "source": [
        "#Impota bibliotecas necessárias\n",
        "import pandas as pd\n",
        "from sklearn.model_selection import train_test_split\n",
        "from sklearn.ensemble import RandomForestClassifier\n",
        "import matplotlib.pyplot as plt\n",
        "import seaborn as sns\n",
        "from sklearn.metrics import accuracy_score, confusion_matrix, classification_report\n",
        "from imblearn.over_sampling import SMOTE\n",
        "from sklearn.model_selection import GridSearchCV\n",
        "from sklearn.ensemble import GradientBoostingClassifier\n",
        "import numpy as np\n",
        "from sklearn.preprocessing import StandardScaler\n",
        "from sklearn.metrics import accuracy_score, confusion_matrix, classification_report\n",
        "from sklearn.svm import SVC\n",
        "import tensorflow as tf\n",
        "from tensorflow.keras import Sequential\n",
        "from tensorflow.keras.layers import Dense"
      ],
      "metadata": {
        "id": "w46fblUFjDBf"
      },
      "execution_count": 10,
      "outputs": []
    },
    {
      "cell_type": "code",
      "source": [
        "data = pd.read_csv('CAD.csv')"
      ],
      "metadata": {
        "id": "UGh1SlNpMl1h"
      },
      "execution_count": null,
      "outputs": []
    },
    {
      "cell_type": "markdown",
      "source": [
        "## Random Forest"
      ],
      "metadata": {
        "id": "Nz0SSLt7MeeF"
      }
    },
    {
      "cell_type": "markdown",
      "source": [
        " ### Preparação dos Dados"
      ],
      "metadata": {
        "id": "2UpPZae8KjCS"
      }
    },
    {
      "cell_type": "code",
      "execution_count": 4,
      "metadata": {
        "colab": {
          "base_uri": "https://localhost:8080/",
          "height": 273
        },
        "id": "FB9W6kGaifHV",
        "outputId": "63588001-d34a-425a-8220-12bc63f47a00"
      },
      "outputs": [
        {
          "output_type": "execute_result",
          "data": {
            "text/plain": [
              "   Age  Weight  Length        BMI  DM  HTN  Current Smoker  EX-Smoker  FH  \\\n",
              "0   53      90     175  29.387755   0    1               1          0   0   \n",
              "1   67      70     157  28.398718   0    1               0          0   0   \n",
              "2   54      54     164  20.077335   0    0               1          0   0   \n",
              "3   66      67     158  26.838648   0    1               0          0   0   \n",
              "4   50      87     153  37.165193   0    1               0          0   0   \n",
              "\n",
              "    BP  ...  Dyspnea_Y  Atypical_Y  Nonanginal_Y  LowTH Ang_Y  LVH_Y  \\\n",
              "0  110  ...          0           0             0            0      0   \n",
              "1  140  ...          0           0             0            0      0   \n",
              "2  100  ...          0           0             0            0      0   \n",
              "3  100  ...          1           0             1            0      0   \n",
              "4  110  ...          1           0             0            0      0   \n",
              "\n",
              "   Poor R Progression_Y  VHD_N  VHD_Severe  VHD_mild  Cath_Normal  \n",
              "0                     0      1           0         0            0  \n",
              "1                     0      1           0         0            0  \n",
              "2                     0      0           0         1            0  \n",
              "3                     0      0           1         0            1  \n",
              "4                     0      0           1         0            1  \n",
              "\n",
              "[5 rows x 56 columns]"
            ],
            "text/html": [
              "\n",
              "  <div id=\"df-6373b781-55de-429c-90b1-d0236c1cc117\" class=\"colab-df-container\">\n",
              "    <div>\n",
              "<style scoped>\n",
              "    .dataframe tbody tr th:only-of-type {\n",
              "        vertical-align: middle;\n",
              "    }\n",
              "\n",
              "    .dataframe tbody tr th {\n",
              "        vertical-align: top;\n",
              "    }\n",
              "\n",
              "    .dataframe thead th {\n",
              "        text-align: right;\n",
              "    }\n",
              "</style>\n",
              "<table border=\"1\" class=\"dataframe\">\n",
              "  <thead>\n",
              "    <tr style=\"text-align: right;\">\n",
              "      <th></th>\n",
              "      <th>Age</th>\n",
              "      <th>Weight</th>\n",
              "      <th>Length</th>\n",
              "      <th>BMI</th>\n",
              "      <th>DM</th>\n",
              "      <th>HTN</th>\n",
              "      <th>Current Smoker</th>\n",
              "      <th>EX-Smoker</th>\n",
              "      <th>FH</th>\n",
              "      <th>BP</th>\n",
              "      <th>...</th>\n",
              "      <th>Dyspnea_Y</th>\n",
              "      <th>Atypical_Y</th>\n",
              "      <th>Nonanginal_Y</th>\n",
              "      <th>LowTH Ang_Y</th>\n",
              "      <th>LVH_Y</th>\n",
              "      <th>Poor R Progression_Y</th>\n",
              "      <th>VHD_N</th>\n",
              "      <th>VHD_Severe</th>\n",
              "      <th>VHD_mild</th>\n",
              "      <th>Cath_Normal</th>\n",
              "    </tr>\n",
              "  </thead>\n",
              "  <tbody>\n",
              "    <tr>\n",
              "      <th>0</th>\n",
              "      <td>53</td>\n",
              "      <td>90</td>\n",
              "      <td>175</td>\n",
              "      <td>29.387755</td>\n",
              "      <td>0</td>\n",
              "      <td>1</td>\n",
              "      <td>1</td>\n",
              "      <td>0</td>\n",
              "      <td>0</td>\n",
              "      <td>110</td>\n",
              "      <td>...</td>\n",
              "      <td>0</td>\n",
              "      <td>0</td>\n",
              "      <td>0</td>\n",
              "      <td>0</td>\n",
              "      <td>0</td>\n",
              "      <td>0</td>\n",
              "      <td>1</td>\n",
              "      <td>0</td>\n",
              "      <td>0</td>\n",
              "      <td>0</td>\n",
              "    </tr>\n",
              "    <tr>\n",
              "      <th>1</th>\n",
              "      <td>67</td>\n",
              "      <td>70</td>\n",
              "      <td>157</td>\n",
              "      <td>28.398718</td>\n",
              "      <td>0</td>\n",
              "      <td>1</td>\n",
              "      <td>0</td>\n",
              "      <td>0</td>\n",
              "      <td>0</td>\n",
              "      <td>140</td>\n",
              "      <td>...</td>\n",
              "      <td>0</td>\n",
              "      <td>0</td>\n",
              "      <td>0</td>\n",
              "      <td>0</td>\n",
              "      <td>0</td>\n",
              "      <td>0</td>\n",
              "      <td>1</td>\n",
              "      <td>0</td>\n",
              "      <td>0</td>\n",
              "      <td>0</td>\n",
              "    </tr>\n",
              "    <tr>\n",
              "      <th>2</th>\n",
              "      <td>54</td>\n",
              "      <td>54</td>\n",
              "      <td>164</td>\n",
              "      <td>20.077335</td>\n",
              "      <td>0</td>\n",
              "      <td>0</td>\n",
              "      <td>1</td>\n",
              "      <td>0</td>\n",
              "      <td>0</td>\n",
              "      <td>100</td>\n",
              "      <td>...</td>\n",
              "      <td>0</td>\n",
              "      <td>0</td>\n",
              "      <td>0</td>\n",
              "      <td>0</td>\n",
              "      <td>0</td>\n",
              "      <td>0</td>\n",
              "      <td>0</td>\n",
              "      <td>0</td>\n",
              "      <td>1</td>\n",
              "      <td>0</td>\n",
              "    </tr>\n",
              "    <tr>\n",
              "      <th>3</th>\n",
              "      <td>66</td>\n",
              "      <td>67</td>\n",
              "      <td>158</td>\n",
              "      <td>26.838648</td>\n",
              "      <td>0</td>\n",
              "      <td>1</td>\n",
              "      <td>0</td>\n",
              "      <td>0</td>\n",
              "      <td>0</td>\n",
              "      <td>100</td>\n",
              "      <td>...</td>\n",
              "      <td>1</td>\n",
              "      <td>0</td>\n",
              "      <td>1</td>\n",
              "      <td>0</td>\n",
              "      <td>0</td>\n",
              "      <td>0</td>\n",
              "      <td>0</td>\n",
              "      <td>1</td>\n",
              "      <td>0</td>\n",
              "      <td>1</td>\n",
              "    </tr>\n",
              "    <tr>\n",
              "      <th>4</th>\n",
              "      <td>50</td>\n",
              "      <td>87</td>\n",
              "      <td>153</td>\n",
              "      <td>37.165193</td>\n",
              "      <td>0</td>\n",
              "      <td>1</td>\n",
              "      <td>0</td>\n",
              "      <td>0</td>\n",
              "      <td>0</td>\n",
              "      <td>110</td>\n",
              "      <td>...</td>\n",
              "      <td>1</td>\n",
              "      <td>0</td>\n",
              "      <td>0</td>\n",
              "      <td>0</td>\n",
              "      <td>0</td>\n",
              "      <td>0</td>\n",
              "      <td>0</td>\n",
              "      <td>1</td>\n",
              "      <td>0</td>\n",
              "      <td>1</td>\n",
              "    </tr>\n",
              "  </tbody>\n",
              "</table>\n",
              "<p>5 rows × 56 columns</p>\n",
              "</div>\n",
              "    <div class=\"colab-df-buttons\">\n",
              "\n",
              "  <div class=\"colab-df-container\">\n",
              "    <button class=\"colab-df-convert\" onclick=\"convertToInteractive('df-6373b781-55de-429c-90b1-d0236c1cc117')\"\n",
              "            title=\"Convert this dataframe to an interactive table.\"\n",
              "            style=\"display:none;\">\n",
              "\n",
              "  <svg xmlns=\"http://www.w3.org/2000/svg\" height=\"24px\" viewBox=\"0 -960 960 960\">\n",
              "    <path d=\"M120-120v-720h720v720H120Zm60-500h600v-160H180v160Zm220 220h160v-160H400v160Zm0 220h160v-160H400v160ZM180-400h160v-160H180v160Zm440 0h160v-160H620v160ZM180-180h160v-160H180v160Zm440 0h160v-160H620v160Z\"/>\n",
              "  </svg>\n",
              "    </button>\n",
              "\n",
              "  <style>\n",
              "    .colab-df-container {\n",
              "      display:flex;\n",
              "      gap: 12px;\n",
              "    }\n",
              "\n",
              "    .colab-df-convert {\n",
              "      background-color: #E8F0FE;\n",
              "      border: none;\n",
              "      border-radius: 50%;\n",
              "      cursor: pointer;\n",
              "      display: none;\n",
              "      fill: #1967D2;\n",
              "      height: 32px;\n",
              "      padding: 0 0 0 0;\n",
              "      width: 32px;\n",
              "    }\n",
              "\n",
              "    .colab-df-convert:hover {\n",
              "      background-color: #E2EBFA;\n",
              "      box-shadow: 0px 1px 2px rgba(60, 64, 67, 0.3), 0px 1px 3px 1px rgba(60, 64, 67, 0.15);\n",
              "      fill: #174EA6;\n",
              "    }\n",
              "\n",
              "    .colab-df-buttons div {\n",
              "      margin-bottom: 4px;\n",
              "    }\n",
              "\n",
              "    [theme=dark] .colab-df-convert {\n",
              "      background-color: #3B4455;\n",
              "      fill: #D2E3FC;\n",
              "    }\n",
              "\n",
              "    [theme=dark] .colab-df-convert:hover {\n",
              "      background-color: #434B5C;\n",
              "      box-shadow: 0px 1px 3px 1px rgba(0, 0, 0, 0.15);\n",
              "      filter: drop-shadow(0px 1px 2px rgba(0, 0, 0, 0.3));\n",
              "      fill: #FFFFFF;\n",
              "    }\n",
              "  </style>\n",
              "\n",
              "    <script>\n",
              "      const buttonEl =\n",
              "        document.querySelector('#df-6373b781-55de-429c-90b1-d0236c1cc117 button.colab-df-convert');\n",
              "      buttonEl.style.display =\n",
              "        google.colab.kernel.accessAllowed ? 'block' : 'none';\n",
              "\n",
              "      async function convertToInteractive(key) {\n",
              "        const element = document.querySelector('#df-6373b781-55de-429c-90b1-d0236c1cc117');\n",
              "        const dataTable =\n",
              "          await google.colab.kernel.invokeFunction('convertToInteractive',\n",
              "                                                    [key], {});\n",
              "        if (!dataTable) return;\n",
              "\n",
              "        const docLinkHtml = 'Like what you see? Visit the ' +\n",
              "          '<a target=\"_blank\" href=https://colab.research.google.com/notebooks/data_table.ipynb>data table notebook</a>'\n",
              "          + ' to learn more about interactive tables.';\n",
              "        element.innerHTML = '';\n",
              "        dataTable['output_type'] = 'display_data';\n",
              "        await google.colab.output.renderOutput(dataTable, element);\n",
              "        const docLink = document.createElement('div');\n",
              "        docLink.innerHTML = docLinkHtml;\n",
              "        element.appendChild(docLink);\n",
              "      }\n",
              "    </script>\n",
              "  </div>\n",
              "\n",
              "\n",
              "<div id=\"df-34c4965e-fe30-4c08-a3f9-4081c9fb48c2\">\n",
              "  <button class=\"colab-df-quickchart\" onclick=\"quickchart('df-34c4965e-fe30-4c08-a3f9-4081c9fb48c2')\"\n",
              "            title=\"Suggest charts.\"\n",
              "            style=\"display:none;\">\n",
              "\n",
              "<svg xmlns=\"http://www.w3.org/2000/svg\" height=\"24px\"viewBox=\"0 0 24 24\"\n",
              "     width=\"24px\">\n",
              "    <g>\n",
              "        <path d=\"M19 3H5c-1.1 0-2 .9-2 2v14c0 1.1.9 2 2 2h14c1.1 0 2-.9 2-2V5c0-1.1-.9-2-2-2zM9 17H7v-7h2v7zm4 0h-2V7h2v10zm4 0h-2v-4h2v4z\"/>\n",
              "    </g>\n",
              "</svg>\n",
              "  </button>\n",
              "\n",
              "<style>\n",
              "  .colab-df-quickchart {\n",
              "      --bg-color: #E8F0FE;\n",
              "      --fill-color: #1967D2;\n",
              "      --hover-bg-color: #E2EBFA;\n",
              "      --hover-fill-color: #174EA6;\n",
              "      --disabled-fill-color: #AAA;\n",
              "      --disabled-bg-color: #DDD;\n",
              "  }\n",
              "\n",
              "  [theme=dark] .colab-df-quickchart {\n",
              "      --bg-color: #3B4455;\n",
              "      --fill-color: #D2E3FC;\n",
              "      --hover-bg-color: #434B5C;\n",
              "      --hover-fill-color: #FFFFFF;\n",
              "      --disabled-bg-color: #3B4455;\n",
              "      --disabled-fill-color: #666;\n",
              "  }\n",
              "\n",
              "  .colab-df-quickchart {\n",
              "    background-color: var(--bg-color);\n",
              "    border: none;\n",
              "    border-radius: 50%;\n",
              "    cursor: pointer;\n",
              "    display: none;\n",
              "    fill: var(--fill-color);\n",
              "    height: 32px;\n",
              "    padding: 0;\n",
              "    width: 32px;\n",
              "  }\n",
              "\n",
              "  .colab-df-quickchart:hover {\n",
              "    background-color: var(--hover-bg-color);\n",
              "    box-shadow: 0 1px 2px rgba(60, 64, 67, 0.3), 0 1px 3px 1px rgba(60, 64, 67, 0.15);\n",
              "    fill: var(--button-hover-fill-color);\n",
              "  }\n",
              "\n",
              "  .colab-df-quickchart-complete:disabled,\n",
              "  .colab-df-quickchart-complete:disabled:hover {\n",
              "    background-color: var(--disabled-bg-color);\n",
              "    fill: var(--disabled-fill-color);\n",
              "    box-shadow: none;\n",
              "  }\n",
              "\n",
              "  .colab-df-spinner {\n",
              "    border: 2px solid var(--fill-color);\n",
              "    border-color: transparent;\n",
              "    border-bottom-color: var(--fill-color);\n",
              "    animation:\n",
              "      spin 1s steps(1) infinite;\n",
              "  }\n",
              "\n",
              "  @keyframes spin {\n",
              "    0% {\n",
              "      border-color: transparent;\n",
              "      border-bottom-color: var(--fill-color);\n",
              "      border-left-color: var(--fill-color);\n",
              "    }\n",
              "    20% {\n",
              "      border-color: transparent;\n",
              "      border-left-color: var(--fill-color);\n",
              "      border-top-color: var(--fill-color);\n",
              "    }\n",
              "    30% {\n",
              "      border-color: transparent;\n",
              "      border-left-color: var(--fill-color);\n",
              "      border-top-color: var(--fill-color);\n",
              "      border-right-color: var(--fill-color);\n",
              "    }\n",
              "    40% {\n",
              "      border-color: transparent;\n",
              "      border-right-color: var(--fill-color);\n",
              "      border-top-color: var(--fill-color);\n",
              "    }\n",
              "    60% {\n",
              "      border-color: transparent;\n",
              "      border-right-color: var(--fill-color);\n",
              "    }\n",
              "    80% {\n",
              "      border-color: transparent;\n",
              "      border-right-color: var(--fill-color);\n",
              "      border-bottom-color: var(--fill-color);\n",
              "    }\n",
              "    90% {\n",
              "      border-color: transparent;\n",
              "      border-bottom-color: var(--fill-color);\n",
              "    }\n",
              "  }\n",
              "</style>\n",
              "\n",
              "  <script>\n",
              "    async function quickchart(key) {\n",
              "      const quickchartButtonEl =\n",
              "        document.querySelector('#' + key + ' button');\n",
              "      quickchartButtonEl.disabled = true;  // To prevent multiple clicks.\n",
              "      quickchartButtonEl.classList.add('colab-df-spinner');\n",
              "      try {\n",
              "        const charts = await google.colab.kernel.invokeFunction(\n",
              "            'suggestCharts', [key], {});\n",
              "      } catch (error) {\n",
              "        console.error('Error during call to suggestCharts:', error);\n",
              "      }\n",
              "      quickchartButtonEl.classList.remove('colab-df-spinner');\n",
              "      quickchartButtonEl.classList.add('colab-df-quickchart-complete');\n",
              "    }\n",
              "    (() => {\n",
              "      let quickchartButtonEl =\n",
              "        document.querySelector('#df-34c4965e-fe30-4c08-a3f9-4081c9fb48c2 button');\n",
              "      quickchartButtonEl.style.display =\n",
              "        google.colab.kernel.accessAllowed ? 'block' : 'none';\n",
              "    })();\n",
              "  </script>\n",
              "</div>\n",
              "    </div>\n",
              "  </div>\n"
            ]
          },
          "metadata": {},
          "execution_count": 4
        }
      ],
      "source": [
        "# Codificação One-Hot para variáveis categóricas\n",
        "data_encoded = pd.get_dummies(data, drop_first=True)\n",
        "\n",
        "# Primeiras linhas do dataset\n",
        "data_encoded.head()\n"
      ]
    },
    {
      "cell_type": "markdown",
      "source": [
        "### Divisão dos Dados em Treino e Teste"
      ],
      "metadata": {
        "id": "wyC9JniTKyte"
      }
    },
    {
      "cell_type": "code",
      "source": [
        "# Define as características (X) e a variável alvo (y)\n",
        "X = data_encoded.drop('Cath_Normal', axis=1)\n",
        "y = data_encoded['Cath_Normal']\n",
        "\n",
        "# Divide o conjunto de dados em treino e teste (80% treino, 20% teste)\n",
        "X_train, X_test, y_train, y_test = train_test_split(X, y, test_size=0.2, random_state=42)\n",
        "\n",
        "X_train.shape, X_test.shape\n"
      ],
      "metadata": {
        "colab": {
          "base_uri": "https://localhost:8080/",
          "height": 0
        },
        "id": "EUGpFrNwjLCO",
        "outputId": "a1bdbe8c-068a-4e5c-8ec2-7a6305fafb7a"
      },
      "execution_count": 5,
      "outputs": [
        {
          "output_type": "execute_result",
          "data": {
            "text/plain": [
              "((242, 55), (61, 55))"
            ]
          },
          "metadata": {},
          "execution_count": 5
        }
      ]
    },
    {
      "cell_type": "markdown",
      "source": [
        "### Treinamento do Modelo e Avaliação da Importância das Características"
      ],
      "metadata": {
        "id": "eS6NbtACLLj4"
      }
    },
    {
      "cell_type": "code",
      "source": [
        "# Inicializa e treinando o modelo de floresta aleatória\n",
        "rf = RandomForestClassifier(n_estimators=100, random_state=42)\n",
        "rf.fit(X_train, y_train)\n",
        "\n",
        "# Obtêm a importância das características\n",
        "feature_importance = rf.feature_importances_\n",
        "\n",
        "# Cria um DataFrame para visualizar a importância de cada característica\n",
        "feature_importance_df = pd.DataFrame({\n",
        "    'Feature': X_train.columns,\n",
        "    'Importance': feature_importance\n",
        "})\n",
        "\n",
        "# Ordena o DataFrame pela importância das características\n",
        "feature_importance_df = feature_importance_df.sort_values(by='Importance', ascending=False)\n",
        "\n",
        "feature_importance_df.head(10)\n"
      ],
      "metadata": {
        "colab": {
          "base_uri": "https://localhost:8080/",
          "height": 363
        },
        "id": "R3LO7SrwjTAU",
        "outputId": "1c75eff0-4fdd-4e3c-e5a8-9a2b9b136dce"
      },
      "execution_count": 6,
      "outputs": [
        {
          "output_type": "execute_result",
          "data": {
            "text/plain": [
              "               Feature  Importance\n",
              "12  Typical Chest Pain    0.105352\n",
              "0                  Age    0.077428\n",
              "47          Atypical_Y    0.066300\n",
              "18                 FBS    0.043296\n",
              "20                  TG    0.042937\n",
              "24                 ESR    0.041313\n",
              "33         Region RWMA    0.040866\n",
              "3                  BMI    0.040472\n",
              "29               Lymph    0.038216\n",
              "31                 PLT    0.031171"
            ],
            "text/html": [
              "\n",
              "  <div id=\"df-3e59550b-8919-4238-9da7-6ccb0a2e43db\" class=\"colab-df-container\">\n",
              "    <div>\n",
              "<style scoped>\n",
              "    .dataframe tbody tr th:only-of-type {\n",
              "        vertical-align: middle;\n",
              "    }\n",
              "\n",
              "    .dataframe tbody tr th {\n",
              "        vertical-align: top;\n",
              "    }\n",
              "\n",
              "    .dataframe thead th {\n",
              "        text-align: right;\n",
              "    }\n",
              "</style>\n",
              "<table border=\"1\" class=\"dataframe\">\n",
              "  <thead>\n",
              "    <tr style=\"text-align: right;\">\n",
              "      <th></th>\n",
              "      <th>Feature</th>\n",
              "      <th>Importance</th>\n",
              "    </tr>\n",
              "  </thead>\n",
              "  <tbody>\n",
              "    <tr>\n",
              "      <th>12</th>\n",
              "      <td>Typical Chest Pain</td>\n",
              "      <td>0.105352</td>\n",
              "    </tr>\n",
              "    <tr>\n",
              "      <th>0</th>\n",
              "      <td>Age</td>\n",
              "      <td>0.077428</td>\n",
              "    </tr>\n",
              "    <tr>\n",
              "      <th>47</th>\n",
              "      <td>Atypical_Y</td>\n",
              "      <td>0.066300</td>\n",
              "    </tr>\n",
              "    <tr>\n",
              "      <th>18</th>\n",
              "      <td>FBS</td>\n",
              "      <td>0.043296</td>\n",
              "    </tr>\n",
              "    <tr>\n",
              "      <th>20</th>\n",
              "      <td>TG</td>\n",
              "      <td>0.042937</td>\n",
              "    </tr>\n",
              "    <tr>\n",
              "      <th>24</th>\n",
              "      <td>ESR</td>\n",
              "      <td>0.041313</td>\n",
              "    </tr>\n",
              "    <tr>\n",
              "      <th>33</th>\n",
              "      <td>Region RWMA</td>\n",
              "      <td>0.040866</td>\n",
              "    </tr>\n",
              "    <tr>\n",
              "      <th>3</th>\n",
              "      <td>BMI</td>\n",
              "      <td>0.040472</td>\n",
              "    </tr>\n",
              "    <tr>\n",
              "      <th>29</th>\n",
              "      <td>Lymph</td>\n",
              "      <td>0.038216</td>\n",
              "    </tr>\n",
              "    <tr>\n",
              "      <th>31</th>\n",
              "      <td>PLT</td>\n",
              "      <td>0.031171</td>\n",
              "    </tr>\n",
              "  </tbody>\n",
              "</table>\n",
              "</div>\n",
              "    <div class=\"colab-df-buttons\">\n",
              "\n",
              "  <div class=\"colab-df-container\">\n",
              "    <button class=\"colab-df-convert\" onclick=\"convertToInteractive('df-3e59550b-8919-4238-9da7-6ccb0a2e43db')\"\n",
              "            title=\"Convert this dataframe to an interactive table.\"\n",
              "            style=\"display:none;\">\n",
              "\n",
              "  <svg xmlns=\"http://www.w3.org/2000/svg\" height=\"24px\" viewBox=\"0 -960 960 960\">\n",
              "    <path d=\"M120-120v-720h720v720H120Zm60-500h600v-160H180v160Zm220 220h160v-160H400v160Zm0 220h160v-160H400v160ZM180-400h160v-160H180v160Zm440 0h160v-160H620v160ZM180-180h160v-160H180v160Zm440 0h160v-160H620v160Z\"/>\n",
              "  </svg>\n",
              "    </button>\n",
              "\n",
              "  <style>\n",
              "    .colab-df-container {\n",
              "      display:flex;\n",
              "      gap: 12px;\n",
              "    }\n",
              "\n",
              "    .colab-df-convert {\n",
              "      background-color: #E8F0FE;\n",
              "      border: none;\n",
              "      border-radius: 50%;\n",
              "      cursor: pointer;\n",
              "      display: none;\n",
              "      fill: #1967D2;\n",
              "      height: 32px;\n",
              "      padding: 0 0 0 0;\n",
              "      width: 32px;\n",
              "    }\n",
              "\n",
              "    .colab-df-convert:hover {\n",
              "      background-color: #E2EBFA;\n",
              "      box-shadow: 0px 1px 2px rgba(60, 64, 67, 0.3), 0px 1px 3px 1px rgba(60, 64, 67, 0.15);\n",
              "      fill: #174EA6;\n",
              "    }\n",
              "\n",
              "    .colab-df-buttons div {\n",
              "      margin-bottom: 4px;\n",
              "    }\n",
              "\n",
              "    [theme=dark] .colab-df-convert {\n",
              "      background-color: #3B4455;\n",
              "      fill: #D2E3FC;\n",
              "    }\n",
              "\n",
              "    [theme=dark] .colab-df-convert:hover {\n",
              "      background-color: #434B5C;\n",
              "      box-shadow: 0px 1px 3px 1px rgba(0, 0, 0, 0.15);\n",
              "      filter: drop-shadow(0px 1px 2px rgba(0, 0, 0, 0.3));\n",
              "      fill: #FFFFFF;\n",
              "    }\n",
              "  </style>\n",
              "\n",
              "    <script>\n",
              "      const buttonEl =\n",
              "        document.querySelector('#df-3e59550b-8919-4238-9da7-6ccb0a2e43db button.colab-df-convert');\n",
              "      buttonEl.style.display =\n",
              "        google.colab.kernel.accessAllowed ? 'block' : 'none';\n",
              "\n",
              "      async function convertToInteractive(key) {\n",
              "        const element = document.querySelector('#df-3e59550b-8919-4238-9da7-6ccb0a2e43db');\n",
              "        const dataTable =\n",
              "          await google.colab.kernel.invokeFunction('convertToInteractive',\n",
              "                                                    [key], {});\n",
              "        if (!dataTable) return;\n",
              "\n",
              "        const docLinkHtml = 'Like what you see? Visit the ' +\n",
              "          '<a target=\"_blank\" href=https://colab.research.google.com/notebooks/data_table.ipynb>data table notebook</a>'\n",
              "          + ' to learn more about interactive tables.';\n",
              "        element.innerHTML = '';\n",
              "        dataTable['output_type'] = 'display_data';\n",
              "        await google.colab.output.renderOutput(dataTable, element);\n",
              "        const docLink = document.createElement('div');\n",
              "        docLink.innerHTML = docLinkHtml;\n",
              "        element.appendChild(docLink);\n",
              "      }\n",
              "    </script>\n",
              "  </div>\n",
              "\n",
              "\n",
              "<div id=\"df-3d541e4d-943b-475a-b5b7-630c16af267b\">\n",
              "  <button class=\"colab-df-quickchart\" onclick=\"quickchart('df-3d541e4d-943b-475a-b5b7-630c16af267b')\"\n",
              "            title=\"Suggest charts.\"\n",
              "            style=\"display:none;\">\n",
              "\n",
              "<svg xmlns=\"http://www.w3.org/2000/svg\" height=\"24px\"viewBox=\"0 0 24 24\"\n",
              "     width=\"24px\">\n",
              "    <g>\n",
              "        <path d=\"M19 3H5c-1.1 0-2 .9-2 2v14c0 1.1.9 2 2 2h14c1.1 0 2-.9 2-2V5c0-1.1-.9-2-2-2zM9 17H7v-7h2v7zm4 0h-2V7h2v10zm4 0h-2v-4h2v4z\"/>\n",
              "    </g>\n",
              "</svg>\n",
              "  </button>\n",
              "\n",
              "<style>\n",
              "  .colab-df-quickchart {\n",
              "      --bg-color: #E8F0FE;\n",
              "      --fill-color: #1967D2;\n",
              "      --hover-bg-color: #E2EBFA;\n",
              "      --hover-fill-color: #174EA6;\n",
              "      --disabled-fill-color: #AAA;\n",
              "      --disabled-bg-color: #DDD;\n",
              "  }\n",
              "\n",
              "  [theme=dark] .colab-df-quickchart {\n",
              "      --bg-color: #3B4455;\n",
              "      --fill-color: #D2E3FC;\n",
              "      --hover-bg-color: #434B5C;\n",
              "      --hover-fill-color: #FFFFFF;\n",
              "      --disabled-bg-color: #3B4455;\n",
              "      --disabled-fill-color: #666;\n",
              "  }\n",
              "\n",
              "  .colab-df-quickchart {\n",
              "    background-color: var(--bg-color);\n",
              "    border: none;\n",
              "    border-radius: 50%;\n",
              "    cursor: pointer;\n",
              "    display: none;\n",
              "    fill: var(--fill-color);\n",
              "    height: 32px;\n",
              "    padding: 0;\n",
              "    width: 32px;\n",
              "  }\n",
              "\n",
              "  .colab-df-quickchart:hover {\n",
              "    background-color: var(--hover-bg-color);\n",
              "    box-shadow: 0 1px 2px rgba(60, 64, 67, 0.3), 0 1px 3px 1px rgba(60, 64, 67, 0.15);\n",
              "    fill: var(--button-hover-fill-color);\n",
              "  }\n",
              "\n",
              "  .colab-df-quickchart-complete:disabled,\n",
              "  .colab-df-quickchart-complete:disabled:hover {\n",
              "    background-color: var(--disabled-bg-color);\n",
              "    fill: var(--disabled-fill-color);\n",
              "    box-shadow: none;\n",
              "  }\n",
              "\n",
              "  .colab-df-spinner {\n",
              "    border: 2px solid var(--fill-color);\n",
              "    border-color: transparent;\n",
              "    border-bottom-color: var(--fill-color);\n",
              "    animation:\n",
              "      spin 1s steps(1) infinite;\n",
              "  }\n",
              "\n",
              "  @keyframes spin {\n",
              "    0% {\n",
              "      border-color: transparent;\n",
              "      border-bottom-color: var(--fill-color);\n",
              "      border-left-color: var(--fill-color);\n",
              "    }\n",
              "    20% {\n",
              "      border-color: transparent;\n",
              "      border-left-color: var(--fill-color);\n",
              "      border-top-color: var(--fill-color);\n",
              "    }\n",
              "    30% {\n",
              "      border-color: transparent;\n",
              "      border-left-color: var(--fill-color);\n",
              "      border-top-color: var(--fill-color);\n",
              "      border-right-color: var(--fill-color);\n",
              "    }\n",
              "    40% {\n",
              "      border-color: transparent;\n",
              "      border-right-color: var(--fill-color);\n",
              "      border-top-color: var(--fill-color);\n",
              "    }\n",
              "    60% {\n",
              "      border-color: transparent;\n",
              "      border-right-color: var(--fill-color);\n",
              "    }\n",
              "    80% {\n",
              "      border-color: transparent;\n",
              "      border-right-color: var(--fill-color);\n",
              "      border-bottom-color: var(--fill-color);\n",
              "    }\n",
              "    90% {\n",
              "      border-color: transparent;\n",
              "      border-bottom-color: var(--fill-color);\n",
              "    }\n",
              "  }\n",
              "</style>\n",
              "\n",
              "  <script>\n",
              "    async function quickchart(key) {\n",
              "      const quickchartButtonEl =\n",
              "        document.querySelector('#' + key + ' button');\n",
              "      quickchartButtonEl.disabled = true;  // To prevent multiple clicks.\n",
              "      quickchartButtonEl.classList.add('colab-df-spinner');\n",
              "      try {\n",
              "        const charts = await google.colab.kernel.invokeFunction(\n",
              "            'suggestCharts', [key], {});\n",
              "      } catch (error) {\n",
              "        console.error('Error during call to suggestCharts:', error);\n",
              "      }\n",
              "      quickchartButtonEl.classList.remove('colab-df-spinner');\n",
              "      quickchartButtonEl.classList.add('colab-df-quickchart-complete');\n",
              "    }\n",
              "    (() => {\n",
              "      let quickchartButtonEl =\n",
              "        document.querySelector('#df-3d541e4d-943b-475a-b5b7-630c16af267b button');\n",
              "      quickchartButtonEl.style.display =\n",
              "        google.colab.kernel.accessAllowed ? 'block' : 'none';\n",
              "    })();\n",
              "  </script>\n",
              "</div>\n",
              "    </div>\n",
              "  </div>\n"
            ]
          },
          "metadata": {},
          "execution_count": 6
        }
      ]
    },
    {
      "cell_type": "markdown",
      "source": [
        "Com base na importância das características fornecida pelo modelo de floresta aleatória, as 10 características mais importantes para prever a presença de DAC são:\n",
        "\n",
        "1. Dor torácica típica (Typical Chest Pain)\n",
        "2. Idade\n",
        "3. Dor atípica (Atypical_Y)\n",
        "4. Glicemia em jejum (FBS)\n",
        "5. Triglicerídeos (TG)\n",
        "6. Taxa de sedimentação de eritrócitos (ESR)\n",
        "7. Anormalidade do movimento da parede regional (Region RWMA)\n",
        "8. Índice de Massa Corporal (BMI)\n",
        "9. Linfócitos (Lymph)\n",
        "10. Plaquetas (PLT)"
      ],
      "metadata": {
        "id": "CThBy6uPM7VG"
      }
    },
    {
      "cell_type": "code",
      "source": [
        "# Visualiza a importância das 10 características mais importantes\n",
        "top_features = feature_importance_df.head(10)\n",
        "plt.figure(figsize=(15, 8))\n",
        "sns.barplot(data=top_features, x='Importance', y='Feature', palette='viridis')\n",
        "plt.title('Top 10 Características Mais Importantes')\n",
        "plt.xlabel('Importância')\n",
        "plt.ylabel('Característica')\n",
        "plt.show()\n"
      ],
      "metadata": {
        "colab": {
          "base_uri": "https://localhost:8080/",
          "height": 739
        },
        "id": "KfIEM5a0jd48",
        "outputId": "1e689dc4-c294-42db-8e3d-83c74c933295"
      },
      "execution_count": 11,
      "outputs": [
        {
          "output_type": "display_data",
          "data": {
            "text/plain": [
              "<Figure size 1500x800 with 1 Axes>"
            ],
            "image/png": "[encoded data removed]"
          },
          "metadata": {}
        }
      ]
    },
    {
      "cell_type": "markdown",
      "source": [
        "### Avaliação do Modelo"
      ],
      "metadata": {
        "id": "OuWwun3JNXwK"
      }
    },
    {
      "cell_type": "markdown",
      "source": [
        "#### Predição"
      ],
      "metadata": {
        "id": "Njwpjx_SNmRL"
      }
    },
    {
      "cell_type": "code",
      "source": [
        "# Faz previsões no conjunto de teste\n",
        "y_pred = rf.predict(X_test)\n",
        "\n",
        "y_pred[:10]\n"
      ],
      "metadata": {
        "colab": {
          "base_uri": "https://localhost:8080/",
          "height": 0
        },
        "id": "JQ6aYCn6j6yA",
        "outputId": "e76c816b-c82e-4b63-9eb0-c7ec8e80a1ab"
      },
      "execution_count": 12,
      "outputs": [
        {
          "output_type": "execute_result",
          "data": {
            "text/plain": [
              "array([1, 0, 0, 0, 1, 0, 0, 0, 1, 0], dtype=uint8)"
            ]
          },
          "metadata": {},
          "execution_count": 12
        }
      ]
    },
    {
      "cell_type": "markdown",
      "source": [
        "#### Avaliação da Performance"
      ],
      "metadata": {
        "id": "CfikrFEWNzoR"
      }
    },
    {
      "cell_type": "code",
      "source": [
        "# Calcula a acurácia\n",
        "accuracy = accuracy_score(y_test, y_pred)\n",
        "\n",
        "accuracy\n"
      ],
      "metadata": {
        "colab": {
          "base_uri": "https://localhost:8080/",
          "height": 0
        },
        "id": "S0h9TD9elCiE",
        "outputId": "b21a8ef2-9270-4e1e-bf11-00d4fa67ea31"
      },
      "execution_count": 13,
      "outputs": [
        {
          "output_type": "execute_result",
          "data": {
            "text/plain": [
              "0.8688524590163934"
            ]
          },
          "metadata": {},
          "execution_count": 13
        }
      ]
    },
    {
      "cell_type": "markdown",
      "source": [
        "A acurácia do modelo no conjunto de teste é de aproximadamente 86.89%. Isso indica que o modelo fez previsões corretas para cerca de 86.89% das amostras no conjunto de teste"
      ],
      "metadata": {
        "id": "N0YNwdS1N5Js"
      }
    },
    {
      "cell_type": "markdown",
      "source": [
        "#### Matriz de Confusão"
      ],
      "metadata": {
        "id": "qLfPPn6AOCGx"
      }
    },
    {
      "cell_type": "code",
      "source": [
        "# Calcula a matriz de confusão\n",
        "conf_matrix = confusion_matrix(y_test, y_pred)\n",
        "\n",
        "# Visualiza a matriz de confusão\n",
        "plt.figure(figsize=(8, 6))\n",
        "sns.heatmap(conf_matrix, annot=True, fmt=\"d\", cmap=\"Blues\", cbar=False)\n",
        "plt.xlabel('Predito')\n",
        "plt.ylabel('Real')\n",
        "plt.title('Matriz de Confusão')\n",
        "plt.show()\n"
      ],
      "metadata": {
        "colab": {
          "base_uri": "https://localhost:8080/",
          "height": 564
        },
        "id": "RL305wFDlI0Q",
        "outputId": "f1f45748-614a-4d1c-f31b-141289ab9b88"
      },
      "execution_count": 14,
      "outputs": [
        {
          "output_type": "display_data",
          "data": {
            "text/plain": [
              "<Figure size 800x600 with 1 Axes>"
            ],
            "image/png": "[encoded data removed]"
          },
          "metadata": {}
        }
      ]
    },
    {
      "cell_type": "markdown",
      "source": [
        "* **Verdadeiros Positivos (VP):** 12 - Casos DAC que foram corretamente previstos como DAC pelo modelo.\n",
        "* **Falsos Positivos (FP):** 2 - Casos normais que foram incorretamente previstos como DAC pelo modelo.\n",
        "* **Verdadeiros Negativos (VN):** 41 - Casos normais que foram corretamente previstos como normais pelo modelo.\n",
        "* **Falsos Negativos (FN):** 6 - Casos DAC que foram incorretamente previstos como normais pelo modelo."
      ],
      "metadata": {
        "id": "JEXmXCJMRn1s"
      }
    },
    {
      "cell_type": "markdown",
      "source": [
        "#### Relatório de Classificação"
      ],
      "metadata": {
        "id": "JS0y_Wj5OQJm"
      }
    },
    {
      "cell_type": "code",
      "source": [
        "# Gera o relatório de classificação\n",
        "class_report = classification_report(y_test, y_pred, target_names=['DAC', 'Normal'])\n",
        "\n",
        "print(class_report)\n"
      ],
      "metadata": {
        "colab": {
          "base_uri": "https://localhost:8080/",
          "height": 0
        },
        "id": "mtMg9zhmlQUQ",
        "outputId": "5138db50-ff6b-40f6-bc4c-79942e8ae2c2"
      },
      "execution_count": 15,
      "outputs": [
        {
          "output_type": "stream",
          "name": "stdout",
          "text": [
            "              precision    recall  f1-score   support\n",
            "\n",
            "         DAC       0.87      0.95      0.91        43\n",
            "      Normal       0.86      0.67      0.75        18\n",
            "\n",
            "    accuracy                           0.87        61\n",
            "   macro avg       0.86      0.81      0.83        61\n",
            "weighted avg       0.87      0.87      0.86        61\n",
            "\n"
          ]
        }
      ]
    },
    {
      "cell_type": "markdown",
      "source": [
        "* O modelo tem uma precisão e revocação mais altas para a classe DAC em comparação com a classe Normal. Isso indica que o modelo é mais confiável ao prever a presença de DAC.\n",
        "* A revocação para a classe Normal é de 67%, o que indica que o modelo pode ter dificuldade em identificar alguns casos normais.\n",
        "\n",
        "Com base nesta avaliação, podemos concluir que o modelo tem um bom desempenho geral, mas ainda há espaço para melhorias, especialmente em relação à detecção de casos normais."
      ],
      "metadata": {
        "id": "q5oesAzhOfka"
      }
    },
    {
      "cell_type": "markdown",
      "source": [
        "### Otimização do Modelo"
      ],
      "metadata": {
        "id": "dNspY8irOsbm"
      }
    },
    {
      "cell_type": "markdown",
      "source": [
        "####  Balanceamento de Classes"
      ],
      "metadata": {
        "id": "VEbxxEi4QV5y"
      }
    },
    {
      "cell_type": "markdown",
      "source": [
        "A diferença no número de amostras entre as classes pode levar a um desempenho de modelo enviesado. Uma técnica para lidar com isso é o balanceamento de classes. Usaremos uma técnica chamada \"SMOTE\" (Synthetic Minority Over-sampling Technique) para superamostrar a classe minoritária"
      ],
      "metadata": {
        "id": "IvdnL_2GP4G0"
      }
    },
    {
      "cell_type": "code",
      "source": [
        "# Aplica SMOTE para balancear as classes\n",
        "smote = SMOTE(random_state=42)\n",
        "X_resampled, y_resampled = smote.fit_resample(X_train, y_train)\n",
        "\n",
        "# Verifica a distribuição das classes após o balanceamento\n",
        "pd.Series(y_resampled).value_counts()\n"
      ],
      "metadata": {
        "colab": {
          "base_uri": "https://localhost:8080/",
          "height": 0
        },
        "id": "NB591vyFl0it",
        "outputId": "ac144966-fccd-4c56-8d84-50a0d47c58d0"
      },
      "execution_count": 16,
      "outputs": [
        {
          "output_type": "execute_result",
          "data": {
            "text/plain": [
              "0    173\n",
              "1    173\n",
              "Name: Cath_Normal, dtype: int64"
            ]
          },
          "metadata": {},
          "execution_count": 16
        }
      ]
    },
    {
      "cell_type": "markdown",
      "source": [
        "tem-se um número igual de amostras para as classes DAC e Normal no conjunto de treinamento"
      ],
      "metadata": {
        "id": "Enf983eGP5nj"
      }
    },
    {
      "cell_type": "markdown",
      "source": [
        "### Treinamento do Modelo com Dados Balanceados"
      ],
      "metadata": {
        "id": "4dQqtNEuQ3xz"
      }
    },
    {
      "cell_type": "code",
      "source": [
        "# Treina o modelo de floresta aleatória com os dados balanceados\n",
        "rf_resampled = RandomForestClassifier(n_estimators=100, random_state=42)\n",
        "rf_resampled.fit(X_resampled, y_resampled)\n",
        "\n",
        "# Faz previsões no conjunto de teste\n",
        "y_pred_resampled = rf_resampled.predict(X_test)\n",
        "\n",
        "# Calcula a acurácia com os dados balanceados\n",
        "accuracy_resampled = accuracy_score(y_test, y_pred_resampled)\n",
        "\n",
        "accuracy_resampled\n"
      ],
      "metadata": {
        "colab": {
          "base_uri": "https://localhost:8080/",
          "height": 0
        },
        "id": "ggTuHJODmMUo",
        "outputId": "2594c625-46ed-488a-ea50-ca5a0997a36b"
      },
      "execution_count": 17,
      "outputs": [
        {
          "output_type": "execute_result",
          "data": {
            "text/plain": [
              "0.8688524590163934"
            ]
          },
          "metadata": {},
          "execution_count": 17
        }
      ]
    },
    {
      "cell_type": "markdown",
      "source": [
        "o modelo treinado com os dados balanceados tem uma acurácia de aproximadamente 86.89% no conjunto de teste, que é semelhante ao modelo treinado com os dados originais"
      ],
      "metadata": {
        "id": "jcEB0a_VRBM0"
      }
    },
    {
      "cell_type": "code",
      "source": [
        "conf_matrix_resampled = confusion_matrix(y_test, y_pred_resampled)\n",
        "print(conf_matrix_resampled)\n"
      ],
      "metadata": {
        "colab": {
          "base_uri": "https://localhost:8080/",
          "height": 0
        },
        "id": "HhQe252cma0e",
        "outputId": "eefbfae2-2c63-4c08-c36a-5030c95961b9"
      },
      "execution_count": 18,
      "outputs": [
        {
          "output_type": "stream",
          "name": "stdout",
          "text": [
            "[[41  2]\n",
            " [ 6 12]]\n"
          ]
        }
      ]
    },
    {
      "cell_type": "code",
      "source": [
        "class_report_resampled = classification_report(y_test, y_pred_resampled)\n",
        "print(class_report_resampled)"
      ],
      "metadata": {
        "colab": {
          "base_uri": "https://localhost:8080/",
          "height": 0
        },
        "id": "WCJJF57rmfku",
        "outputId": "f0f1e62b-cf8e-40dd-fe26-9c326b6f2a3f"
      },
      "execution_count": 19,
      "outputs": [
        {
          "output_type": "stream",
          "name": "stdout",
          "text": [
            "              precision    recall  f1-score   support\n",
            "\n",
            "           0       0.87      0.95      0.91        43\n",
            "           1       0.86      0.67      0.75        18\n",
            "\n",
            "    accuracy                           0.87        61\n",
            "   macro avg       0.86      0.81      0.83        61\n",
            "weighted avg       0.87      0.87      0.86        61\n",
            "\n"
          ]
        }
      ]
    },
    {
      "cell_type": "markdown",
      "source": [
        "* O modelo mostra uma melhoria na identificação de casos normais, com uma revocação de 67% para a classe Normal em comparação com o modelo original.\n",
        "* A precisão para ambas as classes é relativamente alta, indicando que o modelo faz previsões confiáveis para ambas as classes.\n",
        "* A revocação para a classe DAC é bastante alta (95%), o que é uma boa indicação, já que queremos identificar a maioria dos casos DAC corretamente para evitar complicações.\n",
        "\n",
        "Em resumo, o balanceamento de classes melhorou a capacidade do modelo de identificar casos normais, mantendo uma boa performance na identificação de casos DAC"
      ],
      "metadata": {
        "id": "oWlCB5HuSDl4"
      }
    },
    {
      "cell_type": "markdown",
      "source": [
        "### Ajuste de Hiperparâmetros"
      ],
      "metadata": {
        "id": "3z__JPK2SyTo"
      }
    },
    {
      "cell_type": "code",
      "source": [
        "# Define os hiperparâmetros que desejamos ajustar\n",
        "param_grid = {\n",
        "    'n_estimators': [50, 100, 150, 200],\n",
        "    'max_depth': [None, 10, 20, 30, 40],\n",
        "    'min_samples_split': [2, 5, 10],\n",
        "    'min_samples_leaf': [1, 2, 4]\n",
        "}\n",
        "\n",
        "# Inicializa o GridSearchCV\n",
        "grid_search = GridSearchCV(estimator=rf_resampled, param_grid=param_grid,\n",
        "                           cv=5, n_jobs=-1, verbose=2, scoring='accuracy')\n",
        "\n",
        "# Ajusta o modelo\n",
        "grid_search.fit(X_resampled, y_resampled)\n",
        "\n",
        "# Obtêm os melhores hiperparâmetros\n",
        "best_params = grid_search.best_params_\n",
        "print(\"Melhores hiperparâmetros:\", best_params)\n",
        "\n",
        "# Obtêm o melhor modelo\n",
        "best_model = grid_search.best_estimator_\n",
        "\n",
        "# Avalia a performance do melhor modelo no conjunto de teste\n",
        "y_pred_best = best_model.predict(X_test)\n",
        "accuracy_best = accuracy_score(y_test, y_pred_best)\n",
        "print(\"Acurácia do melhor modelo:\", accuracy_best)\n"
      ],
      "metadata": {
        "colab": {
          "base_uri": "https://localhost:8080/",
          "height": 0
        },
        "id": "aDEgrBXDnLZ8",
        "outputId": "489adc6e-21ea-42ef-ddae-0addca128c93"
      },
      "execution_count": 20,
      "outputs": [
        {
          "output_type": "stream",
          "name": "stdout",
          "text": [
            "Fitting 5 folds for each of 180 candidates, totalling 900 fits\n",
            "Melhores hiperparâmetros: {'max_depth': None, 'min_samples_leaf': 2, 'min_samples_split': 2, 'n_estimators': 200}\n",
            "Acurácia do melhor modelo: 0.8688524590163934\n"
          ]
        }
      ]
    },
    {
      "cell_type": "markdown",
      "source": [
        "1. **Melhores Hiperparâmetros:**\n",
        "\n",
        "* **Profundidade Máxima (max_depth):** Nenhum limite, o que significa que as árvores podem crescer até que contenham menos do que o min_samples_split amostras.\n",
        "* **Amostras Mínimas por Folha (min_samples_leaf):** 2, o que ajuda a prevenir o ajuste excessivo, garantindo que os nós folha tenham pelo menos duas amostras.\n",
        "* **Amostras Mínimas por Divisão (min_samples_split):** 2, que é o valor padrão.\n",
        "* **Número de Estimadores (n_estimators):** 200 árvores na floresta.\n",
        "\n",
        "\n",
        "**Desempenho:** A acurácia do modelo otimizado no conjunto de teste é de\n",
        "86.89%. Mesmo após o ajuste de hiperparâmetros, o desempenho permaneceu consistente. Isso pode indicar que o modelo já estava bem otimizado com os hiperparâmetros padrão ou que o conjunto de dados tem um limite de informação que foi alcançado."
      ],
      "metadata": {
        "id": "OQt9sh3tTFeM"
      }
    },
    {
      "cell_type": "markdown",
      "source": [
        "## Gradient Boosting"
      ],
      "metadata": {
        "id": "ibh6O-BWT0rG"
      }
    },
    {
      "cell_type": "markdown",
      "source": [
        "###Treinamento do modelo"
      ],
      "metadata": {
        "id": "WmB-KAsbYDs-"
      }
    },
    {
      "cell_type": "markdown",
      "source": [
        "Dado que a evolução da acurácia do modelo Random Forest estagnou vamos testar outros modelos com intuito de obter um melhor resultado"
      ],
      "metadata": {
        "id": "N06A2cRpUMC0"
      }
    },
    {
      "cell_type": "code",
      "source": [
        "# Inicializa o modelo Gradient Boosting\n",
        "gb = GradientBoostingClassifier(n_estimators=100, random_state=42)\n",
        "\n",
        "# Treina o modelo com os dados balanceados\n",
        "gb.fit(X_resampled, y_resampled)\n",
        "\n",
        "# Faz previsões no conjunto de teste\n",
        "y_pred_gb = gb.predict(X_test)"
      ],
      "metadata": {
        "id": "Tl1n1oz9otTt"
      },
      "execution_count": 22,
      "outputs": []
    },
    {
      "cell_type": "code",
      "source": [
        "# Calcula a acurácia do modelo Gradient Boosting\n",
        "accuracy_gb = accuracy_score(y_test, y_pred_gb)\n",
        "print(\"Acurácia do modelo Gradient Boosting:\", accuracy_gb)"
      ],
      "metadata": {
        "colab": {
          "base_uri": "https://localhost:8080/",
          "height": 0
        },
        "id": "_XkFl-BFovuf",
        "outputId": "b196b156-bace-420b-bb82-5761664f38c6"
      },
      "execution_count": 23,
      "outputs": [
        {
          "output_type": "stream",
          "name": "stdout",
          "text": [
            "Acurácia do modelo Gradient Boosting: 0.9016393442622951\n"
          ]
        }
      ]
    },
    {
      "cell_type": "markdown",
      "source": [
        "O modelo Gradient Boosting atingiu uma acurácia de\n",
        "90.16%, o que é uma melhoria em relação ao modelo de floresta aleatória (aproximadamente\n",
        "86.89%)."
      ],
      "metadata": {
        "id": "23ThLNHdU31P"
      }
    },
    {
      "cell_type": "code",
      "source": [
        "# Calcula a matriz de confusão\n",
        "conf_matrix_gb = confusion_matrix(y_test, y_pred_gb)\n",
        "print(\"Matriz de Confusão:\\n\", conf_matrix_gb)\n"
      ],
      "metadata": {
        "colab": {
          "base_uri": "https://localhost:8080/",
          "height": 0
        },
        "id": "B62se6-lox7n",
        "outputId": "e42bcaad-0d7f-45d9-b1e1-4ecec680022f"
      },
      "execution_count": 24,
      "outputs": [
        {
          "output_type": "stream",
          "name": "stdout",
          "text": [
            "Matriz de Confusão:\n",
            " [[41  2]\n",
            " [ 4 14]]\n"
          ]
        }
      ]
    },
    {
      "cell_type": "markdown",
      "source": [
        "* **Verdadeiros Positivos (VP):** 14 - Casos DAC que foram corretamente previstos como DAC pelo modelo.\n",
        "* **Falsos Positivos (FP):** 2 - Casos normais que foram incorretamente previstos como DAC pelo modelo.\n",
        "* **Verdadeiros Negativos (VN):** 41 - Casos normais que foram corretamente previstos como normais pelo modelo.\n",
        "* **Falsos Negativos (FN):** 4 - Casos DAC que foram incorretamente previstos como normais pelo modelo."
      ],
      "metadata": {
        "id": "fm-LZSXVVji4"
      }
    },
    {
      "cell_type": "code",
      "source": [
        "# Gerando o relatório de classificação\n",
        "class_report_gb = classification_report(y_test, y_pred_gb)\n",
        "print(\"Relatório de Classificação:\\n\", class_report_gb)"
      ],
      "metadata": {
        "colab": {
          "base_uri": "https://localhost:8080/",
          "height": 0
        },
        "id": "J-etctfuoz4R",
        "outputId": "5ce02912-d733-476a-a8cf-5f1f28d4f1d8"
      },
      "execution_count": 25,
      "outputs": [
        {
          "output_type": "stream",
          "name": "stdout",
          "text": [
            "Relatório de Classificação:\n",
            "               precision    recall  f1-score   support\n",
            "\n",
            "           0       0.91      0.95      0.93        43\n",
            "           1       0.88      0.78      0.82        18\n",
            "\n",
            "    accuracy                           0.90        61\n",
            "   macro avg       0.89      0.87      0.88        61\n",
            "weighted avg       0.90      0.90      0.90        61\n",
            "\n"
          ]
        }
      ]
    },
    {
      "cell_type": "markdown",
      "source": [
        "* **Precisão (Classe 0 - DAC):** Das previsões feitas como DAC, 91% estavam corretas.\n",
        "\n",
        "* **Revocação (Classe 0 - DAC):** Dos casos reais de DAC, o modelo identificou corretamente 95%.\n",
        "\n",
        "* **Precisão (Classe 1 - Normal):** Das previsões feitas como normais, 88% estavam corretas.\n",
        "\n",
        "* **Revocação (Classe 1 - Normal):** Dos casos reais normais, o modelo identificou corretamente 78%."
      ],
      "metadata": {
        "id": "sGV2422xV72D"
      }
    },
    {
      "cell_type": "markdown",
      "source": [
        "* O modelo Gradient Boosting apresenta uma melhoria em relação ao modelo de floresta aleatória, tanto em termos de acurácia geral quanto na capacidade de identificar casos normais.\n",
        "* A precisão e revocação para ambas as classes são mais altas em comparação com o modelo de floresta aleatória.\n",
        "* A revocação para a classe DAC permanece alta (95%), indicando que o modelo é eficaz na identificação da maioria dos casos DAC.\n",
        "\n",
        "Em resumo, o Gradient Boosting parece ser um modelo mais adequado para este conjunto de dados e objetivo específico"
      ],
      "metadata": {
        "id": "zL3t2wovWXIW"
      }
    },
    {
      "cell_type": "markdown",
      "source": [
        "### Ajuste de Hiperparâmetros"
      ],
      "metadata": {
        "id": "apYeovOaWjDo"
      }
    },
    {
      "cell_type": "code",
      "source": [
        "# Define os hiperparâmetros que desejamos ajustar\n",
        "param_grid_gb = {\n",
        "    'n_estimators': [50, 100, 150, 200],\n",
        "    'learning_rate': [0.001, 0.01, 0.1, 0.5, 1.0],\n",
        "    'max_depth': [3, 4, 5, 6, 7],\n",
        "    'min_samples_split': [2, 4, 6],\n",
        "    'min_samples_leaf': [1, 2, 4]\n",
        "}\n",
        "\n",
        "# Inicializa o GridSearchCV para Gradient Boosting\n",
        "grid_search_gb = GridSearchCV(estimator=GradientBoostingClassifier(random_state=42),\n",
        "                              param_grid=param_grid_gb,\n",
        "                              cv=5, n_jobs=-1, verbose=2, scoring='accuracy')\n",
        "\n",
        "# Ajusta o modelo Gradient Boosting\n",
        "grid_search_gb.fit(X_resampled, y_resampled)\n",
        "\n",
        "# Obtêm os melhores hiperparâmetros\n",
        "best_params_gb = grid_search_gb.best_params_\n",
        "print(\"Melhores hiperparâmetros para Gradient Boosting:\", best_params_gb)\n",
        "\n",
        "# Obtêm o melhor modelo\n",
        "best_model_gb = grid_search_gb.best_estimator_\n",
        "\n",
        "# Avalia a performance do melhor modelo no conjunto de teste\n",
        "y_pred_best_gb = best_model_gb.predict(X_test)\n",
        "accuracy_best_gb = accuracy_score(y_test, y_pred_best_gb)\n",
        "print(\"Acurácia do melhor modelo Gradient Boosting:\", accuracy_best_gb)\n"
      ],
      "metadata": {
        "colab": {
          "base_uri": "https://localhost:8080/",
          "height": 0
        },
        "id": "pa4KdhlWpV-3",
        "outputId": "7d0aa107-8b10-4237-c870-a5bac11de6ed"
      },
      "execution_count": 26,
      "outputs": [
        {
          "output_type": "stream",
          "name": "stdout",
          "text": [
            "Fitting 5 folds for each of 900 candidates, totalling 4500 fits\n",
            "Melhores hiperparâmetros para Gradient Boosting: {'learning_rate': 1.0, 'max_depth': 4, 'min_samples_leaf': 1, 'min_samples_split': 2, 'n_estimators': 50}\n",
            "Acurácia do melhor modelo Gradient Boosting: 0.9016393442622951\n"
          ]
        }
      ]
    },
    {
      "cell_type": "markdown",
      "source": [
        "O modelo Gradient Boosting otimizado atingiu uma acurácia de 90.16% no conjunto de teste, que é o mesmo desempenho que o modelo Gradient Boosting original"
      ],
      "metadata": {
        "id": "DL4PQxkzW1Sf"
      }
    },
    {
      "cell_type": "markdown",
      "source": [
        "* O ajuste de hiperparâmetros resultou em uma combinação ótima que mantém a acurácia original. Isso pode indicar que o modelo original já estava relativamente bem ajustado ou que a combinação de hiperparâmetros escolhida durante o ajuste não proporcionou um ganho significativo de desempenho.\n",
        "\n",
        "* O learning_rate de 1.0 é relativamente alto, o que pode indicar que o modelo aprende rapidamente com os erros.\n",
        "\n",
        "* O max_depth de 4 indica que as árvores no modelo têm uma profundidade média, o que pode ajudar a evitar o ajuste excessivo."
      ],
      "metadata": {
        "id": "GSdcBuCkXEJf"
      }
    },
    {
      "cell_type": "markdown",
      "source": [
        "### Engenharia de Características"
      ],
      "metadata": {
        "id": "oLdEEHdSXQHW"
      }
    },
    {
      "cell_type": "markdown",
      "source": [
        "Às vezes, a combinação de duas ou mais características pode fornecer informações valiosas que não são evidentes quando consideradas individualmente."
      ],
      "metadata": {
        "id": "bySScpYsXczo"
      }
    },
    {
      "cell_type": "markdown",
      "source": [
        "Transformar características pode torná-las mais informativas ou mais compatíveis com certos algoritmos\n",
        "\n",
        "* **Log-transformação:** Características como TG, LDL, HDL, e FBS são medidas relacionadas ao sangue e podem ter distribuições enviesadas. Uma transformação logarítmica pode ajudar a normalizar sua distribuição.\n",
        "\n",
        "* **Normalização:** Alguns algoritmos de aprendizado de máquina, como SVM ou Redes Neurais, têm melhor desempenho quando os dados são normalizados."
      ],
      "metadata": {
        "id": "xt6hOxdBXlQa"
      }
    },
    {
      "cell_type": "code",
      "source": [
        "# Aplica log-transformação nas características especificadas\n",
        "features_to_log_transform = ['TG', 'LDL', 'HDL', 'FBS']\n",
        "for feature in features_to_log_transform:\n",
        "    X_resampled[feature] = np.log1p(X_resampled[feature])\n",
        "    X_test[feature] = np.log1p(X_test[feature])\n",
        "\n",
        "# Normaliza as características\n",
        "scaler = StandardScaler().fit(X_resampled)\n",
        "X_resampled_normalized = scaler.transform(X_resampled)\n",
        "X_test_normalized = scaler.transform(X_test)\n"
      ],
      "metadata": {
        "id": "D8fGBrCWvOzY"
      },
      "execution_count": 27,
      "outputs": []
    },
    {
      "cell_type": "code",
      "source": [
        "# Usa os melhores hiperparâmetros encontrados anteriormente\n",
        "best_params_gb = {\n",
        "    'learning_rate': 1.0,\n",
        "    'max_depth': 4,\n",
        "    'min_samples_leaf': 1,\n",
        "    'min_samples_split': 2,\n",
        "    'n_estimators': 50\n",
        "}\n",
        "\n",
        "# Inicializa o modelo Gradient Boosting com os melhores hiperparâmetros\n",
        "gb_optimized = GradientBoostingClassifier(**best_params_gb, random_state=42)\n",
        "\n",
        "# Treina o modelo nos dados transformados\n",
        "gb_optimized.fit(X_resampled_normalized, y_resampled)\n",
        "\n",
        "# Faz previsões no conjunto de teste\n",
        "y_pred_gb_transformed = gb_optimized.predict(X_test_normalized)\n",
        "\n",
        "# Calcula a acurácia do modelo Gradient Boosting\n",
        "accuracy_gb_transformed = accuracy_score(y_test, y_pred_gb_transformed)\n",
        "print(\"Acurácia do modelo Gradient Boosting após transformações:\", accuracy_gb_transformed)\n",
        "\n",
        "# Calcula a matriz de confusão\n",
        "conf_matrix_gb_transformed = confusion_matrix(y_test, y_pred_gb_transformed)\n",
        "print(\"Matriz de Confusão:\\n\", conf_matrix_gb_transformed)\n",
        "\n",
        "# Gera o relatório de classificação\n",
        "class_report_gb_transformed = classification_report(y_test, y_pred_gb_transformed)\n",
        "print(\"Relatório de Classificação:\\n\", class_report_gb_transformed)\n"
      ],
      "metadata": {
        "colab": {
          "base_uri": "https://localhost:8080/",
          "height": 0
        },
        "id": "0DnTZ0dMvp2N",
        "outputId": "08a4eb7c-9dd9-4b94-f03c-9d777055f4b2"
      },
      "execution_count": 28,
      "outputs": [
        {
          "output_type": "stream",
          "name": "stdout",
          "text": [
            "Acurácia do modelo Gradient Boosting após transformações: 0.9016393442622951\n",
            "Matriz de Confusão:\n",
            " [[40  3]\n",
            " [ 3 15]]\n",
            "Relatório de Classificação:\n",
            "               precision    recall  f1-score   support\n",
            "\n",
            "           0       0.93      0.93      0.93        43\n",
            "           1       0.83      0.83      0.83        18\n",
            "\n",
            "    accuracy                           0.90        61\n",
            "   macro avg       0.88      0.88      0.88        61\n",
            "weighted avg       0.90      0.90      0.90        61\n",
            "\n"
          ]
        }
      ]
    },
    {
      "cell_type": "markdown",
      "source": [
        "As transformações aplicadas aos dados não resultaram em uma melhoria significativa na performance do modelo. Isso sugere que o modelo original já estava capturando bem as nuances dos dados sem as transformações.\n",
        "\n",
        "\n",
        "A acurácia, precisão e revocação são métricas importantes, e elas se mantiveram consistentes antes e após as transformações"
      ],
      "metadata": {
        "id": "oT0ae5LGY-U2"
      }
    },
    {
      "cell_type": "markdown",
      "source": [
        "## Support Vector Machine (SVM)"
      ],
      "metadata": {
        "id": "W-5pTsCRZEkV"
      }
    },
    {
      "cell_type": "code",
      "source": [
        "# Inicializa o SVM com kernel linear\n",
        "svm_linear = SVC(kernel='linear', random_state=42)\n",
        "\n",
        "# Treina o modelo SVM nos dados transformados\n",
        "svm_linear.fit(X_resampled_normalized, y_resampled)\n",
        "\n",
        "# Faz previsões no conjunto de teste\n",
        "y_pred_svm = svm_linear.predict(X_test_normalized)\n",
        "\n",
        "# Calcula a acurácia do modelo SVM\n",
        "accuracy_svm = accuracy_score(y_test, y_pred_svm)\n",
        "print(\"Acurácia do modelo SVM:\", accuracy_svm)\n",
        "\n",
        "# Calcula a matriz de confusão\n",
        "conf_matrix_svm = confusion_matrix(y_test, y_pred_svm)\n",
        "print(\"Matriz de Confusão:\\n\", conf_matrix_svm)\n",
        "\n",
        "# Gera o relatório de classificação\n",
        "class_report_svm = classification_report(y_test, y_pred_svm)\n",
        "print(\"Relatório de Classificação:\\n\", class_report_svm)\n"
      ],
      "metadata": {
        "colab": {
          "base_uri": "https://localhost:8080/",
          "height": 0
        },
        "id": "UWv2iqLxwtFG",
        "outputId": "3e519ee8-7d0a-41b0-e3aa-6c6a156b6703"
      },
      "execution_count": 29,
      "outputs": [
        {
          "output_type": "stream",
          "name": "stdout",
          "text": [
            "Acurácia do modelo SVM: 0.8852459016393442\n",
            "Matriz de Confusão:\n",
            " [[39  4]\n",
            " [ 3 15]]\n",
            "Relatório de Classificação:\n",
            "               precision    recall  f1-score   support\n",
            "\n",
            "           0       0.93      0.91      0.92        43\n",
            "           1       0.79      0.83      0.81        18\n",
            "\n",
            "    accuracy                           0.89        61\n",
            "   macro avg       0.86      0.87      0.86        61\n",
            "weighted avg       0.89      0.89      0.89        61\n",
            "\n"
          ]
        }
      ]
    },
    {
      "cell_type": "markdown",
      "source": [
        "1. **Acurácia:**\n",
        "\n",
        "O modelo SVM atingiu uma acurácia de 88.52% no conjunto de teste, o que é ligeiramente inferior ao modelo Gradient Boosting, mas ainda assim é um desempenho muito bom.\n",
        "\n",
        "2. **Matriz de Confusão:**\n",
        "* **Verdadeiros Positivos (VP):** 15 - Casos DAC que foram corretamente previstos como DAC pelo modelo.\n",
        "* **Falsos Positivos (FP):** 4 - Casos normais que foram incorretamente previstos como DAC pelo modelo.\n",
        "* **Verdadeiros Negativos (VN):** 39 - Casos normais que foram corretamente previstos como normais pelo modelo.\n",
        "* **Falsos Negativos (FN):** 3 - Casos DAC que foram incorretamente previstos como normais pelo modelo.\n",
        "\n",
        "3. Relatório de Classificação:\n",
        "\n",
        "O relatório de classificação indica que o modelo SVM tem uma precisão bastante alta para identificar casos DAC (93%), mas sua capacidade de identificar casos normais é um pouco menor (79%)."
      ],
      "metadata": {
        "id": "Yc1K-Hw2ZqjA"
      }
    },
    {
      "cell_type": "markdown",
      "source": [
        "* O modelo SVM com um kernel linear apresentou um desempenho promissor, indicando que pode haver uma separação linear ou quase linear entre as classes no espaço de características.\n",
        "* A acurácia, precisão e revocação são métricas importantes e o modelo SVM teve um desempenho sólido em todas elas"
      ],
      "metadata": {
        "id": "9kj8IlsVaHKx"
      }
    },
    {
      "cell_type": "markdown",
      "source": [
        "## Redes Neurais"
      ],
      "metadata": {
        "id": "sT-JCTMzaSZd"
      }
    },
    {
      "cell_type": "markdown",
      "source": [
        "O modelo que proposto será uma rede neural feedforward simples com:\n",
        "\n",
        "* Uma camada de entrada com tamanho igual ao número de características.\n",
        "* Uma ou duas camadas ocultas com um número moderado de neurônios.\n",
        "* Uma camada de saída com 2 neurônios (para representar as duas classes: normal e DAC).\n",
        "\n",
        "A função de ativação que será usada nas camadas ocultas será a ReLU (Rectified Linear Unit). Na camada de saída, será usada a função softmax para obter probabilidades de classe."
      ],
      "metadata": {
        "id": "TZzcl2K8al9G"
      }
    },
    {
      "cell_type": "code",
      "source": [
        "# Inicializa a Rede Neural\n",
        "model = Sequential()\n",
        "\n",
        "# Adiciona a camada de entrada e a primeira camada oculta\n",
        "model.add(Dense(units=32, activation='relu', input_shape=(X_resampled_normalized.shape[1],)))\n",
        "\n",
        "# Adiciona uma segunda camada oculta\n",
        "model.add(Dense(units=16, activation='relu'))\n",
        "\n",
        "# Adiciona a camada de saída\n",
        "model.add(Dense(units=2, activation='softmax'))\n",
        "\n",
        "# Compila a Rede Neural\n",
        "model.compile(optimizer='adam', loss='sparse_categorical_crossentropy', metrics=['accuracy'])\n",
        "\n",
        "# Resumo da arquitetura da Rede Neural\n",
        "model.summary()\n"
      ],
      "metadata": {
        "colab": {
          "base_uri": "https://localhost:8080/",
          "height": 0
        },
        "id": "tTh1c5WOxwMk",
        "outputId": "b7386fff-15bf-44ac-8092-80e4ebfb791d"
      },
      "execution_count": 30,
      "outputs": [
        {
          "output_type": "stream",
          "name": "stdout",
          "text": [
            "Model: \"sequential\"\n",
            "_________________________________________________________________\n",
            " Layer (type)                Output Shape              Param #   \n",
            "=================================================================\n",
            " dense (Dense)               (None, 32)                1792      \n",
            "                                                                 \n",
            " dense_1 (Dense)             (None, 16)                528       \n",
            "                                                                 \n",
            " dense_2 (Dense)             (None, 2)                 34        \n",
            "                                                                 \n",
            "=================================================================\n",
            "Total params: 2354 (9.20 KB)\n",
            "Trainable params: 2354 (9.20 KB)\n",
            "Non-trainable params: 0 (0.00 Byte)\n",
            "_________________________________________________________________\n"
          ]
        }
      ]
    },
    {
      "cell_type": "code",
      "source": [
        "# Treina a Rede Neural\n",
        "history = model.fit(X_resampled_normalized, y_resampled, epochs=50, batch_size=10, validation_data=(X_test_normalized, y_test))\n"
      ],
      "metadata": {
        "colab": {
          "base_uri": "https://localhost:8080/",
          "height": 0
        },
        "id": "bb5HRpgIx0Cc",
        "outputId": "333ba265-0c34-4035-87fc-5be3e822b293"
      },
      "execution_count": 31,
      "outputs": [
        {
          "output_type": "stream",
          "name": "stdout",
          "text": [
            "Epoch 1/50\n",
            "35/35 [==============================] - 1s 10ms/step - loss: 0.7225 - accuracy: 0.5289 - val_loss: 0.4898 - val_accuracy: 0.7213\n",
            "Epoch 2/50\n",
            "35/35 [==============================] - 0s 3ms/step - loss: 0.5079 - accuracy: 0.7832 - val_loss: 0.4316 - val_accuracy: 0.7869\n",
            "Epoch 3/50\n",
            "35/35 [==============================] - 0s 3ms/step - loss: 0.3905 - accuracy: 0.8613 - val_loss: 0.3824 - val_accuracy: 0.8361\n",
            "Epoch 4/50\n",
            "35/35 [==============================] - 0s 4ms/step - loss: 0.3078 - accuracy: 0.8988 - val_loss: 0.3505 - val_accuracy: 0.8361\n",
            "Epoch 5/50\n",
            "35/35 [==============================] - 0s 3ms/step - loss: 0.2463 - accuracy: 0.9191 - val_loss: 0.3188 - val_accuracy: 0.8689\n",
            "Epoch 6/50\n",
            "35/35 [==============================] - 0s 3ms/step - loss: 0.2004 - accuracy: 0.9306 - val_loss: 0.3066 - val_accuracy: 0.8525\n",
            "Epoch 7/50\n",
            "35/35 [==============================] - 0s 4ms/step - loss: 0.1670 - accuracy: 0.9509 - val_loss: 0.2989 - val_accuracy: 0.8689\n",
            "Epoch 8/50\n",
            "35/35 [==============================] - 0s 3ms/step - loss: 0.1403 - accuracy: 0.9566 - val_loss: 0.2926 - val_accuracy: 0.8361\n",
            "Epoch 9/50\n",
            "35/35 [==============================] - 0s 3ms/step - loss: 0.1173 - accuracy: 0.9653 - val_loss: 0.2868 - val_accuracy: 0.8361\n",
            "Epoch 10/50\n",
            "35/35 [==============================] - 0s 3ms/step - loss: 0.0992 - accuracy: 0.9798 - val_loss: 0.2811 - val_accuracy: 0.8361\n",
            "Epoch 11/50\n",
            "35/35 [==============================] - 0s 3ms/step - loss: 0.0846 - accuracy: 0.9798 - val_loss: 0.2875 - val_accuracy: 0.8361\n",
            "Epoch 12/50\n",
            "35/35 [==============================] - 0s 3ms/step - loss: 0.0728 - accuracy: 0.9913 - val_loss: 0.2874 - val_accuracy: 0.8361\n",
            "Epoch 13/50\n",
            "35/35 [==============================] - 0s 3ms/step - loss: 0.0596 - accuracy: 0.9942 - val_loss: 0.2851 - val_accuracy: 0.8361\n",
            "Epoch 14/50\n",
            "35/35 [==============================] - 0s 3ms/step - loss: 0.0508 - accuracy: 0.9942 - val_loss: 0.2831 - val_accuracy: 0.8361\n",
            "Epoch 15/50\n",
            "35/35 [==============================] - 0s 3ms/step - loss: 0.0447 - accuracy: 0.9942 - val_loss: 0.2967 - val_accuracy: 0.8361\n",
            "Epoch 16/50\n",
            "35/35 [==============================] - 0s 4ms/step - loss: 0.0362 - accuracy: 0.9942 - val_loss: 0.2974 - val_accuracy: 0.8361\n",
            "Epoch 17/50\n",
            "35/35 [==============================] - 0s 3ms/step - loss: 0.0307 - accuracy: 0.9942 - val_loss: 0.3020 - val_accuracy: 0.8689\n",
            "Epoch 18/50\n",
            "35/35 [==============================] - 0s 3ms/step - loss: 0.0265 - accuracy: 1.0000 - val_loss: 0.3020 - val_accuracy: 0.8689\n",
            "Epoch 19/50\n",
            "35/35 [==============================] - 0s 3ms/step - loss: 0.0229 - accuracy: 1.0000 - val_loss: 0.3128 - val_accuracy: 0.8525\n",
            "Epoch 20/50\n",
            "35/35 [==============================] - 0s 3ms/step - loss: 0.0189 - accuracy: 1.0000 - val_loss: 0.3187 - val_accuracy: 0.8361\n",
            "Epoch 21/50\n",
            "35/35 [==============================] - 0s 3ms/step - loss: 0.0160 - accuracy: 1.0000 - val_loss: 0.3243 - val_accuracy: 0.8361\n",
            "Epoch 22/50\n",
            "35/35 [==============================] - 0s 3ms/step - loss: 0.0139 - accuracy: 1.0000 - val_loss: 0.3285 - val_accuracy: 0.8525\n",
            "Epoch 23/50\n",
            "35/35 [==============================] - 0s 4ms/step - loss: 0.0121 - accuracy: 1.0000 - val_loss: 0.3346 - val_accuracy: 0.8361\n",
            "Epoch 24/50\n",
            "35/35 [==============================] - 0s 3ms/step - loss: 0.0107 - accuracy: 1.0000 - val_loss: 0.3350 - val_accuracy: 0.8361\n",
            "Epoch 25/50\n",
            "35/35 [==============================] - 0s 4ms/step - loss: 0.0095 - accuracy: 1.0000 - val_loss: 0.3390 - val_accuracy: 0.8525\n",
            "Epoch 26/50\n",
            "35/35 [==============================] - 0s 3ms/step - loss: 0.0084 - accuracy: 1.0000 - val_loss: 0.3447 - val_accuracy: 0.8689\n",
            "Epoch 27/50\n",
            "35/35 [==============================] - 0s 3ms/step - loss: 0.0075 - accuracy: 1.0000 - val_loss: 0.3425 - val_accuracy: 0.8525\n",
            "Epoch 28/50\n",
            "35/35 [==============================] - 0s 3ms/step - loss: 0.0068 - accuracy: 1.0000 - val_loss: 0.3496 - val_accuracy: 0.8525\n",
            "Epoch 29/50\n",
            "35/35 [==============================] - 0s 3ms/step - loss: 0.0061 - accuracy: 1.0000 - val_loss: 0.3535 - val_accuracy: 0.8689\n",
            "Epoch 30/50\n",
            "35/35 [==============================] - 0s 3ms/step - loss: 0.0055 - accuracy: 1.0000 - val_loss: 0.3591 - val_accuracy: 0.8689\n",
            "Epoch 31/50\n",
            "35/35 [==============================] - 0s 4ms/step - loss: 0.0051 - accuracy: 1.0000 - val_loss: 0.3605 - val_accuracy: 0.8689\n",
            "Epoch 32/50\n",
            "35/35 [==============================] - 0s 3ms/step - loss: 0.0046 - accuracy: 1.0000 - val_loss: 0.3643 - val_accuracy: 0.8689\n",
            "Epoch 33/50\n",
            "35/35 [==============================] - 0s 3ms/step - loss: 0.0042 - accuracy: 1.0000 - val_loss: 0.3670 - val_accuracy: 0.8689\n",
            "Epoch 34/50\n",
            "35/35 [==============================] - 0s 3ms/step - loss: 0.0038 - accuracy: 1.0000 - val_loss: 0.3704 - val_accuracy: 0.8689\n",
            "Epoch 35/50\n",
            "35/35 [==============================] - 0s 3ms/step - loss: 0.0035 - accuracy: 1.0000 - val_loss: 0.3725 - val_accuracy: 0.8689\n",
            "Epoch 36/50\n",
            "35/35 [==============================] - 0s 4ms/step - loss: 0.0032 - accuracy: 1.0000 - val_loss: 0.3760 - val_accuracy: 0.8689\n",
            "Epoch 37/50\n",
            "35/35 [==============================] - 0s 3ms/step - loss: 0.0030 - accuracy: 1.0000 - val_loss: 0.3787 - val_accuracy: 0.8689\n",
            "Epoch 38/50\n",
            "35/35 [==============================] - 0s 3ms/step - loss: 0.0028 - accuracy: 1.0000 - val_loss: 0.3839 - val_accuracy: 0.8689\n",
            "Epoch 39/50\n",
            "35/35 [==============================] - 0s 3ms/step - loss: 0.0026 - accuracy: 1.0000 - val_loss: 0.3872 - val_accuracy: 0.8689\n",
            "Epoch 40/50\n",
            "35/35 [==============================] - 0s 3ms/step - loss: 0.0024 - accuracy: 1.0000 - val_loss: 0.3904 - val_accuracy: 0.8689\n",
            "Epoch 41/50\n",
            "35/35 [==============================] - 0s 3ms/step - loss: 0.0022 - accuracy: 1.0000 - val_loss: 0.3922 - val_accuracy: 0.8689\n",
            "Epoch 42/50\n",
            "35/35 [==============================] - 0s 3ms/step - loss: 0.0021 - accuracy: 1.0000 - val_loss: 0.3977 - val_accuracy: 0.8689\n",
            "Epoch 43/50\n",
            "35/35 [==============================] - 0s 3ms/step - loss: 0.0020 - accuracy: 1.0000 - val_loss: 0.3987 - val_accuracy: 0.8689\n",
            "Epoch 44/50\n",
            "35/35 [==============================] - 0s 3ms/step - loss: 0.0018 - accuracy: 1.0000 - val_loss: 0.4033 - val_accuracy: 0.8689\n",
            "Epoch 45/50\n",
            "35/35 [==============================] - 0s 3ms/step - loss: 0.0017 - accuracy: 1.0000 - val_loss: 0.4056 - val_accuracy: 0.8689\n",
            "Epoch 46/50\n",
            "35/35 [==============================] - 0s 3ms/step - loss: 0.0016 - accuracy: 1.0000 - val_loss: 0.4099 - val_accuracy: 0.8689\n",
            "Epoch 47/50\n",
            "35/35 [==============================] - 0s 4ms/step - loss: 0.0015 - accuracy: 1.0000 - val_loss: 0.4117 - val_accuracy: 0.8689\n",
            "Epoch 48/50\n",
            "35/35 [==============================] - 0s 3ms/step - loss: 0.0014 - accuracy: 1.0000 - val_loss: 0.4144 - val_accuracy: 0.8689\n",
            "Epoch 49/50\n",
            "35/35 [==============================] - 0s 3ms/step - loss: 0.0014 - accuracy: 1.0000 - val_loss: 0.4194 - val_accuracy: 0.8689\n",
            "Epoch 50/50\n",
            "35/35 [==============================] - 0s 3ms/step - loss: 0.0013 - accuracy: 1.0000 - val_loss: 0.4183 - val_accuracy: 0.8689\n"
          ]
        }
      ]
    },
    {
      "cell_type": "code",
      "source": [
        "# Avalia a Rede Neural no conjunto de teste\n",
        "loss, accuracy = model.evaluate(X_test_normalized, y_test)\n",
        "print(f\"Acurácia da Rede Neural: {accuracy}\")\n"
      ],
      "metadata": {
        "colab": {
          "base_uri": "https://localhost:8080/",
          "height": 0
        },
        "id": "7TRbEbA9y5Sk",
        "outputId": "5b4a446f-cbb3-4fb4-c121-d2e780bf39bd"
      },
      "execution_count": 32,
      "outputs": [
        {
          "output_type": "stream",
          "name": "stdout",
          "text": [
            "2/2 [==============================] - 0s 9ms/step - loss: 0.4183 - accuracy: 0.8689\n",
            "Acurácia da Rede Neural: 0.868852436542511\n"
          ]
        }
      ]
    },
    {
      "cell_type": "markdown",
      "source": [
        "A rede neural atingiu uma acurácia de\n",
        "86.89\n",
        "%\n",
        "86.89% no conjunto de teste. Esta acurácia está em linha com os modelos anteriores (Random Forest, Gradient Boosting, e SVM)."
      ],
      "metadata": {
        "id": "b448ewdWa5bq"
      }
    },
    {
      "cell_type": "markdown",
      "source": [
        "Durante o treinamento, observamos que a acurácia da rede neural nos dados de treinamento foi aumentando até atingir\n",
        "100\n",
        "%\n",
        "100%, o que pode ser um sinal de overfitting. No entanto, a acurácia no conjunto de validação (conjunto de teste) também se manteve alta, o que é um bom sinal. Ainda assim, é sempre bom ficar atento para o risco de overfitting com redes neurais, especialmente quando o conjunto de dados não é muito grande"
      ],
      "metadata": {
        "id": "tQ2UCu_ObEjS"
      }
    },
    {
      "cell_type": "markdown",
      "source": [
        "* A rede neural conseguiu capturar os padrões subjacentes nos dados e produziu um desempenho sólido.\n",
        "* Os modelos anteriores que testamos (Random Forest, Gradient Boosting, e SVM) tiveram desempenho semelhante.\n",
        "* Para um conjunto de dados deste tamanho, o desempenho do modelo de rede neural é impressionante."
      ],
      "metadata": {
        "id": "UYzppNDLbJjN"
      }
    },
    {
      "cell_type": "markdown",
      "source": [
        "## Análise de Importância de Características usando Gradient Boosting"
      ],
      "metadata": {
        "id": "ft8plpSKbpYy"
      }
    },
    {
      "cell_type": "markdown",
      "source": [
        "Será utilizado o modelo Gradient Boosting para avaliar a importância das características, uma vez que ele é conhecido por fornecer uma boa estimação de importância de características. VIsto também que ele foi o modelo que melhor performou entre os testes realizados"
      ],
      "metadata": {
        "id": "IHSze-6gbt-W"
      }
    },
    {
      "cell_type": "code",
      "source": [
        "# Inicializa e treinando o Gradient Boosting Classifier\n",
        "gb_best = GradientBoostingClassifier(learning_rate=1.0, max_depth=4, min_samples_leaf=1, min_samples_split=2, n_estimators=50)\n",
        "gb_best.fit(X_resampled_normalized, y_resampled)\n"
      ],
      "metadata": {
        "colab": {
          "base_uri": "https://localhost:8080/",
          "height": 75
        },
        "id": "IhFn4PqZz2zK",
        "outputId": "0d11197a-b3cc-4892-e12a-2f86f1c57fef"
      },
      "execution_count": 33,
      "outputs": [
        {
          "output_type": "execute_result",
          "data": {
            "text/plain": [
              "GradientBoostingClassifier(learning_rate=1.0, max_depth=4, n_estimators=50)"
            ],
            "text/html": [
              "<style>#sk-container-id-1 {color: black;background-color: white;}#sk-container-id-1 pre{padding: 0;}#sk-container-id-1 div.sk-toggleable {background-color: white;}#sk-container-id-1 label.sk-toggleable__label {cursor: pointer;display: block;width: 100%;margin-bottom: 0;padding: 0.3em;box-sizing: border-box;text-align: center;}#sk-container-id-1 label.sk-toggleable__label-arrow:before {content: \"▸\";float: left;margin-right: 0.25em;color: #696969;}#sk-container-id-1 label.sk-toggleable__label-arrow:hover:before {color: black;}#sk-container-id-1 div.sk-estimator:hover label.sk-toggleable__label-arrow:before {color: black;}#sk-container-id-1 div.sk-toggleable__content {max-height: 0;max-width: 0;overflow: hidden;text-align: left;background-color: #f0f8ff;}#sk-container-id-1 div.sk-toggleable__content pre {margin: 0.2em;color: black;border-radius: 0.25em;background-color: #f0f8ff;}#sk-container-id-1 input.sk-toggleable__control:checked~div.sk-toggleable__content {max-height: 200px;max-width: 100%;overflow: auto;}#sk-container-id-1 input.sk-toggleable__control:checked~label.sk-toggleable__label-arrow:before {content: \"▾\";}#sk-container-id-1 div.sk-estimator input.sk-toggleable__control:checked~label.sk-toggleable__label {background-color: #d4ebff;}#sk-container-id-1 div.sk-label input.sk-toggleable__control:checked~label.sk-toggleable__label {background-color: #d4ebff;}#sk-container-id-1 input.sk-hidden--visually {border: 0;clip: rect(1px 1px 1px 1px);clip: rect(1px, 1px, 1px, 1px);height: 1px;margin: -1px;overflow: hidden;padding: 0;position: absolute;width: 1px;}#sk-container-id-1 div.sk-estimator {font-family: monospace;background-color: #f0f8ff;border: 1px dotted black;border-radius: 0.25em;box-sizing: border-box;margin-bottom: 0.5em;}#sk-container-id-1 div.sk-estimator:hover {background-color: #d4ebff;}#sk-container-id-1 div.sk-parallel-item::after {content: \"\";width: 100%;border-bottom: 1px solid gray;flex-grow: 1;}#sk-container-id-1 div.sk-label:hover label.sk-toggleable__label {background-color: #d4ebff;}#sk-container-id-1 div.sk-serial::before {content: \"\";position: absolute;border-left: 1px solid gray;box-sizing: border-box;top: 0;bottom: 0;left: 50%;z-index: 0;}#sk-container-id-1 div.sk-serial {display: flex;flex-direction: column;align-items: center;background-color: white;padding-right: 0.2em;padding-left: 0.2em;position: relative;}#sk-container-id-1 div.sk-item {position: relative;z-index: 1;}#sk-container-id-1 div.sk-parallel {display: flex;align-items: stretch;justify-content: center;background-color: white;position: relative;}#sk-container-id-1 div.sk-item::before, #sk-container-id-1 div.sk-parallel-item::before {content: \"\";position: absolute;border-left: 1px solid gray;box-sizing: border-box;top: 0;bottom: 0;left: 50%;z-index: -1;}#sk-container-id-1 div.sk-parallel-item {display: flex;flex-direction: column;z-index: 1;position: relative;background-color: white;}#sk-container-id-1 div.sk-parallel-item:first-child::after {align-self: flex-end;width: 50%;}#sk-container-id-1 div.sk-parallel-item:last-child::after {align-self: flex-start;width: 50%;}#sk-container-id-1 div.sk-parallel-item:only-child::after {width: 0;}#sk-container-id-1 div.sk-dashed-wrapped {border: 1px dashed gray;margin: 0 0.4em 0.5em 0.4em;box-sizing: border-box;padding-bottom: 0.4em;background-color: white;}#sk-container-id-1 div.sk-label label {font-family: monospace;font-weight: bold;display: inline-block;line-height: 1.2em;}#sk-container-id-1 div.sk-label-container {text-align: center;}#sk-container-id-1 div.sk-container {/* jupyter's `normalize.less` sets `[hidden] { display: none; }` but bootstrap.min.css set `[hidden] { display: none !important; }` so we also need the `!important` here to be able to override the default hidden behavior on the sphinx rendered scikit-learn.org. See: https://github.com/scikit-learn/scikit-learn/issues/21755 */display: inline-block !important;position: relative;}#sk-container-id-1 div.sk-text-repr-fallback {display: none;}</style><div id=\"sk-container-id-1\" class=\"sk-top-container\"><div class=\"sk-text-repr-fallback\"><pre>GradientBoostingClassifier(learning_rate=1.0, max_depth=4, n_estimators=50)</pre><b>In a Jupyter environment, please rerun this cell to show the HTML representation or trust the notebook. <br />On GitHub, the HTML representation is unable to render, please try loading this page with nbviewer.org.</b></div><div class=\"sk-container\" hidden><div class=\"sk-item\"><div class=\"sk-estimator sk-toggleable\"><input class=\"sk-toggleable__control sk-hidden--visually\" id=\"sk-estimator-id-1\" type=\"checkbox\" checked><label for=\"sk-estimator-id-1\" class=\"sk-toggleable__label sk-toggleable__label-arrow\">GradientBoostingClassifier</label><div class=\"sk-toggleable__content\"><pre>GradientBoostingClassifier(learning_rate=1.0, max_depth=4, n_estimators=50)</pre></div></div></div></div></div>"
            ]
          },
          "metadata": {},
          "execution_count": 33
        }
      ]
    },
    {
      "cell_type": "code",
      "source": [
        "# Obtêm a importância das características\n",
        "feature_importance = gb_best.feature_importances_\n"
      ],
      "metadata": {
        "id": "kNghietcz44p"
      },
      "execution_count": 34,
      "outputs": []
    },
    {
      "cell_type": "code",
      "source": [
        "# Ordena as características por importância\n",
        "sorted_idx = feature_importance.argsort()\n",
        "\n",
        "# Plota a importância das características\n",
        "plt.figure(figsize=(10, 15))\n",
        "plt.barh(range(X_resampled_normalized.shape[1]), feature_importance[sorted_idx], align='center')\n",
        "plt.yticks(range(X_resampled_normalized.shape[1]), data.columns[sorted_idx])\n",
        "plt.xlabel('Importância da Característica')\n",
        "plt.title('Importância das Características usando Gradient Boosting')\n",
        "plt.show()\n"
      ],
      "metadata": {
        "colab": {
          "base_uri": "https://localhost:8080/",
          "height": 1000
        },
        "id": "iprO5T7hz8IF",
        "outputId": "95ee4a10-9a52-415d-fa33-cfb97e16c8cf"
      },
      "execution_count": 36,
      "outputs": [
        {
          "output_type": "display_data",
          "data": {
            "text/plain": [
              "<Figure size 1000x1500 with 1 Axes>"
            ],
            "image/png": "[encoded data removed]"
          },
          "metadata": {}
        }
      ]
    },
    {
      "cell_type": "markdown",
      "source": [
        "* **CVA (Cerebrovascular Accident):** Esta característica é a mais influente, com uma importância significativamente alta. Isso sugere que ter um histórico de acidente vascular cerebral (AVC) é um indicador muito forte de doença arterial coronariana (DAC) neste conjunto de dados.\n",
        "* **Age (Idade):** A idade é um fator de risco conhecido para muitas doenças, incluindo DAC. Não é surpreendente vê-la como uma característica importante neste conjunto de dados.\n",
        "* **St Depression:** Outra característica influente. Alterações no ECG, como depressão do segmento ST, podem indicar doença cardíaca.\n",
        "* **Weak Peripheral Pulse e St Elevation:** Estas também são características clinicamente relevantes na detecção de DAC.\n",
        "\n",
        "Os recursos com importância próxima a zero não contribuem significativamente para o modelo. Isso não significa que esses recursos não sejam clinicamente relevantes em geral, mas sim que, para este conjunto de dados específico, eles não foram determinantes para a previsão de DAC."
      ],
      "metadata": {
        "id": "8F1KdpSyh7wA"
      }
    }
  ]
}